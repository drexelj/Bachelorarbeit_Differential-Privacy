{
 "cells": [
  {
   "cell_type": "markdown",
   "id": "9d24550c",
   "metadata": {},
   "source": [
    "### Musterlösung zu den Kontrollfragen des vorherigen Notebooks\n",
    "\n",
    "* Wie können die Eigenschaften von Differential Privacy für eine Datensammlung erreicht werden?\n",
    "\n",
    "> Fangfrage, dies ist nicht möglich. Die Eigenschaften von Differential Privacy können nur von einem Mechanismus (Funktion) erfüllt werden.\n",
    "\n",
    "* Wie heisst das Modell, bei welchem die Daten vor der Übermittlung an einen zentralen Dienstleister (Aggregator) verändert werden?\n",
    "\n",
    "> Das ist das lokale Modell.\n",
    "\n",
    "* Ist die folgende Aussage korrekt? \"Je höher das Epsilon ($\\varepsilon$), desto höher der Schutz der Privacy.\"\n",
    "\n",
    "> Nein, es ist genau umgekehrt. \"Je **kleiner** das Epsilon ($\\varepsilon$), desto höher der Schutz der Privacy.\"\n",
    "\n",
    "* Bei welcher Kompositions-Art werden die Privacy-Budgets addiert?\n",
    "\n",
    "> Bei der sequentiellen Komposition.\n",
    "\n",
    "<hr>"
   ]
  },
  {
   "cell_type": "markdown",
   "id": "82f52e61",
   "metadata": {},
   "source": [
    "# Notebook 3: Der Laplace Mechanismus\n",
    "\n",
    "***Hier geht es zum vorherigen Notebook dieser Serie: [Notebook 2: Die Definition der Differential Privacy](./2_Definition-Differential-Privacy.ipynb)***"
   ]
  },
  {
   "cell_type": "markdown",
   "id": "45d09aba",
   "metadata": {},
   "source": [
    "## Lernziele\n",
    "\n",
    "Folgende Lernziele sollten mit der Bearbeitung dieses Jupyter Notebooks erreicht werden können:\n",
    "- Die Teilnehmenden sind in der Lage, die Sensitivität einer einfachen Funktion abzuschätzen.\n",
    "- Die Teilnehmenden sind in der Lage, zwischen der unbegrenzten und begrenzten Sensitivität zu unterscheiden.\n",
    "- Die Teilnehmenden sind in der Lage, die Eigenschaften der Differential Privacy für eine einfache Funktion mittels des Laplace Mechanismus zu implementieren."
   ]
  },
  {
   "cell_type": "markdown",
   "id": "534ed4b6",
   "metadata": {},
   "source": [
    "## Die Sensitivität\n",
    "Für das Verständnis des Laplace Machanismus muss noch das Konzept der Sensitivität einer Funktion betrachtet werden.\n",
    "\n",
    "Die Sensitivität einer Funktion entspricht dem Betrag, um den sich die Ausgabe der Funktion ändert, wenn sich ihre Eingabe ändert. Zur Veranschaulichung folgend einige Beispiele für die Sensitivitätswerte von drei einfachen Funktionen: \n",
    "\n",
    "- Die Sensitivität von $f(x) = x$ entspricht $1$, denn: ändert sich $x$ um $1$, so ändert sich auch $f(x)$ um $1$.\n",
    "- Die Sensitivität von $f(x) = x + x$ entspricht $2$, denn: ändert sich $x$ um $1$, so ändert sich $f(x)$ um $2$.\n",
    "- Die Sensitivität von $f(x) = 5 * x$ entspricht $5$, denn: ändert sich $x$ um $1$, so ändert sich $f(x)$ um $5$.\n",
    "\n",
    "Bei einer Zählfunktion (`count`) entspricht in der Regel die Sensitivität = 1. Dies ist darauf zu begründen, dass wenn ein Datensatz hinzugefügt oder entfernt wird, sich die Zählfunktion um maximal $1$ ändern kann.\n",
    "\n",
    "Im Gegensatz zur Summenfunktion (`sum`), hier hängt die Ausgabe vom Inhalt der einzelnen Datensätze ab. Zum Beispiel sind in einer Datensammlung die Anzahl Arztbesuche in einem Jahr erfasst. Die Summenfunktion zählt sämtliche Arztbesuche zusammen. Wird nun ein Datensatz hinzugefügt, in welchem 23 Arztbesuche erfasst sind, ändert sich die Ausgabe der Summenfunktion um 23, obwohl nur 1 Datensatz hinzugefügt wurde. In der Annahme, dass wohl niemand mehr als 100 Arztbesuche pro Jahr wahrnehmen würde, könnte beispielsweise eine Sensitivität für die Summenfunktion der Arztbesuche von 100 definiert werden. Wird nun jedoch ein Datensatz mit 101 Arztbesuchen hinzugefügt, ist die Sensitivität nicht mehr korrekt.\n",
    "\n",
    "Aus diesem Grund wird zwischen der **unbegrenzten Sensitivität** und der **begrenzten Sensitivität** unterschieden. Die unbegrenzte Sensitivität beschreibt den oben genannten Fall, wenn keine Unter- und Obergrenze des Werts gegeben ist. Um eine begrenzte Sensitivität handelt es sich, wenn eine Unter- und Obergrenze definiert ist. Dies könnte beispielsweise eine Funktion sein, welche die Anzahl der verkauften Sitzplätze eines Kinos zusammenzählt. Hier ist die untere Grenze 0, wenn in keinem Saal ein Sitzplatz verkauft wurde. Die obere Grenze ist dann erreicht, wenn sämtliche Säle ausgebucht und somit alle vorhandenen Sitzplätze verkauft wurden. Die Sensitivität berechnet sich aus der Differenz der unteren und oberen Grenze. Im Beispiel des Kinos würde die Sensitivität der Summenfunktion somit der Anzahl Sitzplätze aller Säle entsprechen.\n",
    "\n",
    "Funktionen mit unbegrenzter Sensitivität können in solche mit begrenzter Sensitivität transformiert werden. Dafür muss bei der Implementierung der Funktion eine Unter- und Obergrenze erzwungen werden. Hierzu werden zu niedrige oder zu hohe Werte abgeschnitten. Wird beispielsweise eine Funktion implementiert, welche die Alter aller Personen in der Datensammlung zusammenzählt, so könnte eine untere Grenze von 0 und obere Grenze von 125 erzwungen werden. Für den sehr seltenen Fall, dass eine Person mit einem Alter von über 125 erfasst würde, zählte die Funktion für diese Person nur ein Wert von 125 dazu. Dank der nun klar gesetzten Grenzen, kann die Sensitivität genau bestimmt werden.\n",
    "\n",
    "In der Literatur wird oftmals zwischen lokaler und globaler Sensitivität unterschieden. Diese Unterscheidung würde die fachliche Tiefe dieser Übung übersteigen, weshalb auf eine Einführung der lokalen Sensitivität verzichtet wird. Innerhalb dieser Übung wird mit Sensitivität stets die globale Sensitivität bezeichnet."
   ]
  },
  {
   "cell_type": "markdown",
   "id": "abcae526",
   "metadata": {},
   "source": [
    "## Definition des Laplace Mechanismus\n",
    "\n",
    "Wie im vorherigen Notebook bereits kurz beschrieben, wird für die Erfüllung der Differential Privacy oftmals Rauschen zum Ergebnis hinzugefügt, um die Ausgabe probabilistisch zu machen (siehe \"Beispiel zur Grundidee von Differential Privacy\" im [Notebook 2](./2_Definition-Differential-Privacy.ipynb)). Beim Laplace Mechanismus wird das Rauschen nach der Laplace Verteilung generiert und zum Ergebnis hinzugefügt. Es ist wichtig zu erwähnen, dass der Laplace Mechanismus nur für **numerische Abfragen** funktioniert. Die Ausgabe ist also immer eine Zahl.\n",
    "\n",
    "<div class=\"alert alert-success\">\n",
    "<b>Definition: Laplace Mechanismus</b>\n",
    "    <br />\n",
    "    <br /> \n",
    "Die Funktion $f$ wird über die Datensammlung $D$ ausgeführt und liefert als Resultat eine Zahl zurück. Zu dieser Zahl wird Rauschen nach Laplace hinzugefügt ($Lap(\\frac{s}{\\varepsilon})$). Durch das Hinzufügen des Laplace Rauschens, erfüllt der Machnismus $M(D)$ die Eigenschaften der $\\varepsilon$-Differential Privacy. Wobei $s$ die Sensitivität der Funktion $f$ ist.\n",
    "\n",
    "$$M(D) = f(D) + Lap(\\frac{s}{\\varepsilon})$$\n",
    "</div>\n",
    "\n",
    "Das sieht komplizierter aus, als es ist. Wir haben eine Funktion $f$, dies könnte beispielsweise COUNT() oder SUM() sein. Diese liefert eine Zahl zurück. Also z.B. \"Zähle alle Männer in der Datensammlung\". Zu dieser Zahl wird nun noch eine Zufallszahl nach der Laplace Verteilung dazuaddiert. So wird das Ergebnis leicht verändert und die Eigenschaften der Differential Privacy werden erfüllt. Zur Veranschaulichung wird dieser Ablauf in <a href=\"#abb-1\">Abbildung 1</a> grafisch gezeigt.\n",
    "\n",
    "<br>\n",
    "<br>\n",
    "<center>\n",
    "<img src=\"./src/Laplace-Mechanismus.png\" width=\"50%\" alt=\"Funktionsweise Laplace Mechanismus\">\n",
    "<br>\n",
    "<br>\n",
    "<a name=\"abb-1\">Abbildung 1: Funktionsweise des Laplace Mechanismus</center></a>"
   ]
  },
  {
   "cell_type": "markdown",
   "id": "d5076a87",
   "metadata": {},
   "source": [
    "## Implementation des Laplace Mechanismus"
   ]
  },
  {
   "cell_type": "markdown",
   "id": "8b65e9d3",
   "metadata": {},
   "source": [
    "Es soll eine Funktion implementiert werden, welche die Anzahl der weiblichen Personen in einem Array zurückgibt. Nachfolgend werden die Daten ins Array `datensammlung` geladen:"
   ]
  },
  {
   "cell_type": "code",
   "execution_count": 1,
   "id": "61e9f237",
   "metadata": {},
   "outputs": [],
   "source": [
    "from array import *\n",
    "\n",
    "datensammlung = [[\"Heinz\", \"Müller\", 1958, \"M\"], \n",
    "                 [\"Maria\", \"Meier\", 1965, \"F\"], \n",
    "                 [\"Jolanda\", \"Heine\", 1968, \"F\"], \n",
    "                 [\"Markus\", \"Inauen\", 1978, \"M\"],\n",
    "                 [\"Sarah\", \"Hauser\", 1994, \"F\"]]"
   ]
  },
  {
   "cell_type": "markdown",
   "id": "110bb014",
   "metadata": {},
   "source": [
    "Es wird eine Funktion `countFemales` implementiert, welche die Anzahl Frauen im Array zählt und zurückgibt."
   ]
  },
  {
   "cell_type": "code",
   "execution_count": 2,
   "id": "d5160b71",
   "metadata": {},
   "outputs": [],
   "source": [
    "def countFemales(array):\n",
    "    count = 0\n",
    "    for x in array:\n",
    "        if x[3] == \"F\":\n",
    "            count += 1\n",
    "    return count"
   ]
  },
  {
   "cell_type": "markdown",
   "id": "aa52fe4a",
   "metadata": {},
   "source": [
    "Nachfolgend wird das Resultat der Funktion ausgegeben."
   ]
  },
  {
   "cell_type": "code",
   "execution_count": 3,
   "id": "2ae0ba67",
   "metadata": {},
   "outputs": [
    {
     "name": "stdout",
     "output_type": "stream",
     "text": [
      "3\n"
     ]
    }
   ],
   "source": [
    "print(countFemales(datensammlung))"
   ]
  },
  {
   "cell_type": "markdown",
   "id": "4687a146",
   "metadata": {},
   "source": [
    "Die Funktion `countFemales` ist deterministisch. Das heisst, dass egal wie oft dieselbe Funktion über derselben Datensammlung ausgeführt wird, es wird stets dasselbe Resultat zurückgegeben. Wird somit die Funktion erneut ausgeführt, kommt wieder \"3\" als Resultat dabei heraus:"
   ]
  },
  {
   "cell_type": "code",
   "execution_count": 4,
   "id": "4d452d37",
   "metadata": {},
   "outputs": [
    {
     "name": "stdout",
     "output_type": "stream",
     "text": [
      "3\n"
     ]
    }
   ],
   "source": [
    "print(countFemales(datensammlung))"
   ]
  },
  {
   "cell_type": "markdown",
   "id": "088da368",
   "metadata": {},
   "source": [
    "Die Idee des Laplace Mechanismus ist es nun zur deterministischen Funktion noch Rauschen nach Laplace hinzuzufügen. Dadurch wird das Resultat probabilistisch, also nach bestimmten Regeln zufällig. Dies erlaubt es die Eigenschaften der $\\varepsilon$-Differential Privacy zu erfüllen.\n",
    "\n",
    "Es wird eine Version der Funktion implementiert, welche die Eigenschaften von Differential Privacy erfüllt: `dp_lap_countFemales`"
   ]
  },
  {
   "cell_type": "code",
   "execution_count": 5,
   "id": "833bfdf8",
   "metadata": {},
   "outputs": [],
   "source": [
    "import numpy as np\n",
    "\n",
    "def dp_lap_countFemales(array, sensitivity, epsilon):\n",
    "    return countFemales(array) + np.random.laplace(loc=0, scale=sensitivity/epsilon)"
   ]
  },
  {
   "cell_type": "markdown",
   "id": "97d72ca5",
   "metadata": {},
   "source": [
    "Es wird also die \"normale\" `countFemales` Funktion ausgeführt und zum Ergebnis eine Laplace-Zufallszahl dazuaddiert. Der Parameter `scale` ist von der Sensitivität der Funktion und dem Priavcy-Budget $\\varepsilon$ abhängig.\n",
    "\n",
    "Da die Funktion `dp_lap_countFemales` die Eigenschaften der Differential Privacy erfüllt, sprechen wir ab sofort nicht mehr von einer Funktion, sondern von einem **Mechanismus** (um den Unterschied der beiden Begriffe zu verdeutlichen).\n",
    "\n",
    "Nachfolgend wird der Mechanismus `dp_lap_countFemales` 10 mal mit dem Privacy-Budget $\\varepsilon = 0.1$ und der Sensitivität $= 1.0$ (da es sich um eine Zählfunktion handelt und sich die Ausgabe somit um maximal 1 ändern kann, wenn eine Person hinzugefügt/entfernt wird) ausgeführt und die Resultate werden ausgegeben:"
   ]
  },
  {
   "cell_type": "code",
   "execution_count": 6,
   "id": "20d4eb49",
   "metadata": {},
   "outputs": [
    {
     "name": "stdout",
     "output_type": "stream",
     "text": [
      "3.2619788770023463\n",
      "7.938114271772301\n",
      "-14.133685159615172\n",
      "-7.366908538977647\n",
      "-7.229868692374977\n",
      "7.133301312118829\n",
      "-1.87859469885339\n",
      "21.058789009617556\n",
      "-3.6459672679121553\n",
      "1.2391936858323294\n"
     ]
    }
   ],
   "source": [
    "for i in range(10):\n",
    "    print(dp_lap_countFemales(datensammlung, 1, 0.1))"
   ]
  },
  {
   "cell_type": "markdown",
   "id": "cecd8f93",
   "metadata": {},
   "source": [
    "Es ist ersichtlich, dass der Mechanismus `dp_lap_countFemales` nicht determininistisch ist. Die Resultate weichen voneinander ab, obwohl stets dieselbe Abfrage über derselben Datensammlung ausgeführt wurde."
   ]
  },
  {
   "cell_type": "markdown",
   "id": "57951758",
   "metadata": {},
   "source": [
    "<div class=\"alert alert-danger\">\n",
    "    <h2>Übung: Einfluss des Privacy-Budgets auf die Ergebnisse</h2>\n",
    "    <br />\n",
    "Verändere beim vorherigen Code-Beispiel das Privacy-Budget und beobachte, wie sich dieses auf die Ergebnisse auswirkt. Wähle kleine und grosse Werte und beobachte deren Einfluss auf die Ergebnisse und deren Streuung.  \n",
    "    \n",
    "<b>Wichtig zu beachten: Bevor der Code ausgeführt werden kann (nach den eigenen Anpassungen), müssen vorab alle vorherigen Code-Abschnitte dieses Notebooks ausgeführt worden sein. Ansonsten sind die notwendigen Parameter und Funktionen nicht vorhanden.</b>\n",
    "<br />\n",
    "<br />\n",
    "<i>Hinweis: Eine Musterlösung ist im <a href=\"./7_Musterlösungen-der-Übungen.ipynb\">Notebook 7: Musterlösungen der Übungen</a> zu finden.</i>\n",
    "</div>"
   ]
  },
  {
   "cell_type": "markdown",
   "id": "2fc0e51a",
   "metadata": {},
   "source": [
    "Nachfolgend wird der Mechanismus `dp_lap_countFemales` erneut 10 mal ausgeführt und der Durchschnitt der jeweiligen Resultate berechnet."
   ]
  },
  {
   "cell_type": "code",
   "execution_count": 7,
   "id": "45f829b9",
   "metadata": {},
   "outputs": [
    {
     "name": "stdout",
     "output_type": "stream",
     "text": [
      "4.7673721478606\n"
     ]
    }
   ],
   "source": [
    "results = 0\n",
    "\n",
    "for i in range(10):\n",
    "    results += dp_lap_countFemales(datensammlung, 1, 0.1)\n",
    "    \n",
    "mean = results / 10\n",
    "\n",
    "print(mean)"
   ]
  },
  {
   "cell_type": "markdown",
   "id": "c3b3fb94",
   "metadata": {},
   "source": [
    "Die echte Anzahl Frauen in der Datensammlung ist 3. Wir beobachten, wie sich dies verhält, wenn wir den Mechanismus statt 10 mal nun 1000 mal ausführen."
   ]
  },
  {
   "cell_type": "code",
   "execution_count": 8,
   "id": "32dec023",
   "metadata": {},
   "outputs": [
    {
     "name": "stdout",
     "output_type": "stream",
     "text": [
      "3.0630188637169242\n"
     ]
    }
   ],
   "source": [
    "results = 0\n",
    "\n",
    "for i in range(1000):\n",
    "    results += dp_lap_countFemales(datensammlung, 1, 0.1)\n",
    "    \n",
    "mean = results / 1000\n",
    "\n",
    "print(mean)"
   ]
  },
  {
   "cell_type": "markdown",
   "id": "ab07a248",
   "metadata": {},
   "source": [
    "Und statt 1000 mal nun 100'000 mal..."
   ]
  },
  {
   "cell_type": "code",
   "execution_count": 9,
   "id": "09b573cb",
   "metadata": {},
   "outputs": [
    {
     "name": "stdout",
     "output_type": "stream",
     "text": [
      "2.982683583816403\n"
     ]
    }
   ],
   "source": [
    "results = 0\n",
    "\n",
    "for i in range(100000):\n",
    "    results += dp_lap_countFemales(datensammlung, 1, 0.1)\n",
    "    \n",
    "mean = results / 100000\n",
    "\n",
    "print(mean)"
   ]
  },
  {
   "cell_type": "markdown",
   "id": "b2547c2d",
   "metadata": {},
   "source": [
    "Und zum Abschluss noch 1'000'000 mal:"
   ]
  },
  {
   "cell_type": "code",
   "execution_count": 10,
   "id": "ecfb7b64",
   "metadata": {
    "scrolled": true
   },
   "outputs": [
    {
     "name": "stdout",
     "output_type": "stream",
     "text": [
      "3.0064729060597326\n"
     ]
    }
   ],
   "source": [
    "results = 0\n",
    "\n",
    "for i in range(1000000):\n",
    "    results += dp_lap_countFemales(datensammlung, 1, 0.1)\n",
    "    \n",
    "mean = results / 1000000\n",
    "\n",
    "print(mean)"
   ]
  },
  {
   "cell_type": "markdown",
   "id": "61f958b2",
   "metadata": {},
   "source": [
    "Der Durchschnitt nähert sich immer mehr an dem echten Ergebnis (3) an, wodurch ein Angreifer natürlich auf das echte Ergebnis schliessen kann, je häufiger dieser die Funktion ausführt. Deshalb gilt das Prinzip der Komposition für das Privacy-Budget und es muss verhindern werden, dass ein Angreifer beliebig häufig den Mechanismus ausführen kann."
   ]
  },
  {
   "cell_type": "markdown",
   "id": "bc438033",
   "metadata": {},
   "source": [
    "<div class=\"alert alert-warning\">\n",
    "<b>Wichtige Erkenntnis</b>\n",
    "    <br />\n",
    "    <br /> \n",
    "Wird derselbe Mechanismus mehrmals ausgeführt (wie in den vorherigen Beispielen) kommt die Komposition des Privacy-Budgets zum Zug. Wird also derselbe Mechanismus über denselben Daten bspw. 10 Mal ausgeführt, müssen die Privacy-Budgets summiert werden.\n",
    "\n",
    "Für das obige Beispiel hiesse dies: 0.1 + 0.1 + 0.1 + 0.1 + 0.1 + 0.1 + 0.1 + 0.1 + 0.1 + 0.1 = 1.0\n",
    "\n",
    "Beim 10 maligen Ausführen wird also nur ein Privacy-Budget von 1.0 garantiert.\n",
    "</div>"
   ]
  },
  {
   "cell_type": "markdown",
   "id": "b6d150d0",
   "metadata": {},
   "source": [
    "### Anmerkung zum Nutzen der Daten\n",
    "\n",
    "Das Ziel der Differential Privacy ist es die Privacy zu Schützen, ohne den eigentlichen Nutzen der Daten zu verlieren. Wir betrachten erneut das obige Beispiel."
   ]
  },
  {
   "cell_type": "code",
   "execution_count": 11,
   "id": "456d4149",
   "metadata": {},
   "outputs": [
    {
     "name": "stdout",
     "output_type": "stream",
     "text": [
      "Resultat ohne DP: 3\n",
      "Resultat mit DP: 3.5097225331848074\n"
     ]
    }
   ],
   "source": [
    "print(\"Resultat ohne DP: \" + str(countFemales(datensammlung)))\n",
    "print(\"Resultat mit DP: \" + str(dp_lap_countFemales(datensammlung, 1, 0.1)))"
   ]
  },
  {
   "cell_type": "markdown",
   "id": "91edfee0",
   "metadata": {},
   "source": [
    "Nun beurteilen wir den Nutzen dieser Ergebnisse. Die tatsächliche Anzahl der Frauen ist 3. Total sind 5 Personen in der Datensammlung enthalten. Der Mechanismus soll nun 1000 mal ausgeführt werden. Anschliessend wird die absolute mittlere Abweichung der Ergebnisse zum tatsächlichen Wert (3) berechnet."
   ]
  },
  {
   "cell_type": "code",
   "execution_count": 12,
   "id": "9a09b595",
   "metadata": {},
   "outputs": [
    {
     "name": "stdout",
     "output_type": "stream",
     "text": [
      "Absolute mittlere Abweichung von 3: 10.195913853593376\n"
     ]
    }
   ],
   "source": [
    "values = []\n",
    "\n",
    "for i in range(1000):\n",
    "    values.append(dp_lap_countFemales(datensammlung, 1, 0.1))\n",
    "\n",
    "print(\"Absolute mittlere Abweichung von 3: \" + str(np.mean(np.absolute(values - np.asarray(3)))))"
   ]
  },
  {
   "cell_type": "markdown",
   "id": "3bb0e674",
   "metadata": {},
   "source": [
    "Im Schnitt weichten die Ergebnisse des Mechanismus somit um ~10 Frauen vom tatsächlichen Ergebnis ab. Zur Veranschaulichung betrachten wir dies in Prozent.\n",
    "\n",
    "Total sind **5 Personen** enthalten, dies entspricht **100%**  \n",
    "Insgesamt sind davon **3 Personen** eine Frau, dies entspricht **60%**  \n",
    "Die Ergebnisse des Mechanismus wichen im Schnitt um **~10 Personen** ab, was **200%** entspricht\n",
    "\n",
    "**Auswertung der Statistik ohne Differential Privacy:**  \n",
    "60% der Personen sind Frauen.\n",
    "\n",
    "**Auswertung der Statistik mit Differential Privacy:**  \n",
    "260% der Personen sind Frauen.\n",
    "\n",
    "Ganz offensichtlich ergeben die Ergebnisse keinen Sinn mehr. Somit ist durch die Differential Privacy der Nutzen der Daten gänzlich verloren gegangen. Die Differential Privacy funktioniert besser, je grösser die Datensammlung ist. Aus diesem Grund folgt nun ein realitätsnahes Beispiel für den Laplace Mechanismus."
   ]
  },
  {
   "cell_type": "markdown",
   "id": "efdbdcae",
   "metadata": {},
   "source": [
    "## Realitätsnahes Beispiel des Laplace Mechanismus\n",
    "\n",
    "Nachfolgend wird eine Beispiel-Implementation des Laplace Mechanismus basierend auf einer grossen Datensammlung gemacht. Es sollen die Daten aus der Studie \"National Longitudinal Study of Youth, NLSY79\" des U.S. Bureau of Labor Statistics ausgewertet werden. Es wurde der Intelligenzquotient (gemäss AFQT - armed forces qualifying test score)\n",
    "gemessen. Weiter wurden dieselben Personen nach dem jährlichen Einkommen, sowie der Anzahl Jahre Schulbildung gefragt. In der Datensammlung sind total 2584 Datensätze von ebenso vielen Personen enthalten. Zur Veranschaulichung folgend die ersten Zeilen dieser Datensammlung:\n",
    "\n",
    "| AFQT | Jahre Schulbildung | Einkommen |\n",
    "| :- | :-: | :- | \n",
    "| 6.841 | 12 | 5500 |\n",
    "| 99.393 | 16 | 65000 |\n",
    "| 47.412 | 12 | 19000 |\n",
    "| 44.022 | 14 | 36000 |\n",
    "| ... | ... | ...|\n",
    "\n",
    "<br>\n",
    "<a name=\"tab-1\"><center>Tabelle 1: Auszug aus den Daten der Studie</center></a>\n",
    "\n",
    "Nach <a href=\"https://www.census.gov/library/publications/2021/demo/p60-273.html\">US Census Bureau</a> liegt das median Jahreseinkommen eines Haushaltes in der USA bei 67'521 USD. Dieses Einkommen wird in der Regel durch mehrere Personen in einem Haushalt verdient. Zur Vereinfachung wird einfach die Hälfte dieses Gesamteinkommens als einzelnes Einkommen genommen. Das heisst, dass wir davon ausgehen, dass 33'761 USD dem median Jahreseinkommen einer Einzelperson in den USA entspricht.\n",
    "\n",
    "Gemäss den <a href=\"https://hdr.undp.org/en/indicators/69706\">UN Human Development Reports</a> wird in den USA in der Regel die Schule für 16 Jahre besucht.\n",
    "\n",
    "Das Ziel ist es nun einen Laplace Mechanismus zu implementieren, der die Anzahl Personen ausgibt, welche ein Einkommen von über 33'761 USD haben, obwohl diese weniger als 16 Jahre in der Schule waren."
   ]
  },
  {
   "cell_type": "markdown",
   "id": "cfd9ddf3",
   "metadata": {},
   "source": [
    "Zunächst werden die Daten importiert und im Array `data` gespeichert. Zur Veranschlaulichung werden die ersten 4 Datensätze ausgegeben."
   ]
  },
  {
   "cell_type": "code",
   "execution_count": 13,
   "id": "07cb8852",
   "metadata": {},
   "outputs": [
    {
     "name": "stdout",
     "output_type": "stream",
     "text": [
      "(AFQT, Jahre Schulbildung, Einkommen)\n",
      "(6.841, 12, 5500)\n",
      "(99.393, 16, 65000)\n",
      "(47.412, 12, 19000)\n",
      "(44.022, 14, 36000)\n"
     ]
    }
   ],
   "source": [
    "import numpy as np\n",
    "\n",
    "data = np.genfromtxt('./src/income.dat',\n",
    "                     skip_header=0,\n",
    "                     skip_footer=0,\n",
    "                     names=True,\n",
    "                     dtype=None,\n",
    "                     delimiter=' ')\n",
    "\n",
    "print(\"(AFQT, Jahre Schulbildung, Einkommen)\")\n",
    "print(data[0])\n",
    "print(data[1])\n",
    "print(data[2])\n",
    "print(data[3])"
   ]
  },
  {
   "cell_type": "markdown",
   "id": "64b97117",
   "metadata": {},
   "source": [
    "Die Funktion `lowEducationHighIncome` zählt die Personen, welche ein Einkommen von über 33'761 USD haben und weniger als 16 Jahre in der Schule waren."
   ]
  },
  {
   "cell_type": "code",
   "execution_count": 14,
   "id": "fe80ea47",
   "metadata": {},
   "outputs": [
    {
     "name": "stdout",
     "output_type": "stream",
     "text": [
      "Resultat ohne DP: 882\n"
     ]
    }
   ],
   "source": [
    "def lowEducationHighIncome(array):\n",
    "    \n",
    "    count = 0\n",
    "    \n",
    "    for x in array:\n",
    "        if x[1] < 16 and x[2] > 33761:\n",
    "            count += 1\n",
    "    \n",
    "    return count\n",
    "\n",
    "print(\"Resultat ohne DP: \" + str(lowEducationHighIncome(data)))"
   ]
  },
  {
   "cell_type": "markdown",
   "id": "e3f3e273",
   "metadata": {},
   "source": [
    "In der Datensammlung sind somit **882** Personen mit einem \"hohen\" Einkommen trotz \"geringer\" Schulbildung enthalten.\n",
    "\n",
    "Nun wird der Mechanismus `dp_lap_lowEducationHighIncome` implementiert, der die Anzahl Personen unter Einhaltung der Differential Privacy zurückgibt."
   ]
  },
  {
   "cell_type": "code",
   "execution_count": 15,
   "id": "53ca06f0",
   "metadata": {},
   "outputs": [],
   "source": [
    "def dp_lap_lowEducationHighIncome(array, sensitivity, epsilon):    \n",
    "    return lowEducationHighIncome(array) + np.random.laplace(loc=0, scale=sensitivity/epsilon)"
   ]
  },
  {
   "cell_type": "markdown",
   "id": "4dc7a168",
   "metadata": {},
   "source": [
    "Der Mechanismus wird nun mit der Sensitivität von 1.0 (da es sich um eine Zählfunktion handelt) und einem Privacy-Budget von 0.1 ausgeführt und das Resultat ausgegeben."
   ]
  },
  {
   "cell_type": "code",
   "execution_count": 16,
   "id": "857e808e",
   "metadata": {},
   "outputs": [
    {
     "name": "stdout",
     "output_type": "stream",
     "text": [
      "Resultat mit DP: 884.5207973093482\n"
     ]
    }
   ],
   "source": [
    "print(\"Resultat mit DP: \" + str(dp_lap_lowEducationHighIncome(data, 1, 0.1)))"
   ]
  },
  {
   "cell_type": "markdown",
   "id": "3f32eb8d",
   "metadata": {},
   "source": [
    "Wie erwartet, weicht das \"Resultat mit DP\" vom \"Resultat ohne DP\" aufgrund des hinzugefügten Rauschens ab. Die Differential Privacy soll erlauben Erkenntnisse aus der Datensammlung zu ziehen, die zutreffend sind. Dabei soll aber verhindert werden, dass Erkenntnisse über Einzelpersonen gewonnen werden können.\n",
    "\n",
    "Nachfolgend wird der Mechanismus 1000 mal ausgeführt und anschliessend wir die absolute mittlere Abweichung vom tatsächlichen Wert (882) gemessen und ausgegeben."
   ]
  },
  {
   "cell_type": "code",
   "execution_count": 17,
   "id": "6bd124e8",
   "metadata": {},
   "outputs": [
    {
     "name": "stdout",
     "output_type": "stream",
     "text": [
      "Absolute mittlere Abweichung von 882: 10.162349224130608\n"
     ]
    }
   ],
   "source": [
    "values = []\n",
    "\n",
    "for i in range(1000):\n",
    "    values.append(dp_lap_lowEducationHighIncome(data, 1, 0.1))\n",
    "\n",
    "print(\"Absolute mittlere Abweichung von 882: \" + str(np.mean(np.absolute(values - np.asarray(882)))))"
   ]
  },
  {
   "cell_type": "markdown",
   "id": "7e0d1da0",
   "metadata": {},
   "source": [
    "Das heisst, dass die Ergebnisse des Mechanismus im Schnitt um ~10 Personen vom tatsächlichen Wert abgewichen sind. Für ein besseres Verständnis betrachten wir die Zahlen in Prozent.\n",
    "\n",
    "Total sind **2584 Personen** enthalten, dies entspricht **100%**  \n",
    "Insgesamt treffen davon für **882 Personen** die angegebenen Kriterien zu, dies entspricht **34%**  \n",
    "Die Ergebnisse des Mechanismus wichen im Schnitt um **~10 Personen** ab, was **0.4%** entspricht  \n",
    "\n",
    "**Auswertung der Studie ohne Differential Privacy:**  \n",
    "34.0% der Personen erzielen trotz einer geringeren Schulbildung ein hohes Einkommen.\n",
    "\n",
    "**Auswertung der Studie mit Differential Privacy:**  \n",
    "34.4% der Personen erzielen trotz einer geringeren Schulbildung ein hohes Einkommen.\n",
    "\n",
    "Die Ungenauigkeit, welche durch die Differential Privacy erreicht wurde, scheint keinen relevanten Einfluss zu haben. Es können weiterhin die richtigen Erkenntnisse gewonnen werden. Der Nutzen der Daten blieb in diesem Beispiel somit auch mit Differential Privacy erhalten.\n",
    "\n",
    "Dies zeigt, dass die Differential Privacy für grosse Datenmengen sehr gut funktioniert. Weiter darf nicht vergessen werden, dass das Privacy-Budget eine essentielle Rolle spielt. Bei einem Privacy-Budget von bspw. 0.9 schrumpft die absolute mittlere Abweichung auf ~1 Person (0.039%), wodurch aber der Schutz der Privacy schwächer wird."
   ]
  },
  {
   "cell_type": "code",
   "execution_count": 18,
   "id": "74fb1799",
   "metadata": {},
   "outputs": [
    {
     "name": "stdout",
     "output_type": "stream",
     "text": [
      "Absolute mittlere Abweichung von 882: 1.1435958179320247\n"
     ]
    }
   ],
   "source": [
    "values = []\n",
    "\n",
    "for i in range(1000):\n",
    "    values.append(dp_lap_lowEducationHighIncome(data, 1, 0.9))\n",
    "\n",
    "print(\"Absolute mittlere Abweichung von 882: \" + str(np.mean(np.absolute(values - np.asarray(882)))))"
   ]
  },
  {
   "cell_type": "markdown",
   "id": "0a6c08d6",
   "metadata": {},
   "source": [
    "<div class=\"alert alert-warning\">\n",
    "<b>Wichtige Erkenntnis</b>\n",
    "    <br />\n",
    "    <br /> \n",
    "Je grösser die Datensammlung ist, umso besser funktioniert die Differential Privacy.\n",
    "</div>"
   ]
  },
  {
   "cell_type": "markdown",
   "id": "68673f54",
   "metadata": {},
   "source": [
    "## Kontrollfragen\n",
    "\n",
    "* Wie ist in der Regel die Sensitivität einer Zählfunktion (`COUNT`)?\n",
    "* Von welchen beiden Parametern ist die Laplace-Zufallsfunktion abhängig?\n",
    "\n",
    "_Hinweis: Eine Musterlösung der Kontrollfragen ist im nächsten Notebook zu finden._"
   ]
  },
  {
   "cell_type": "markdown",
   "id": "79bed467",
   "metadata": {},
   "source": [
    "***Hier geht es zum nächsten Notebook dieser Serie: [Notebook 4: Der Gauss Mechanismus](./4_Gauss-Mechanismus.ipynb)***"
   ]
  }
 ],
 "metadata": {
  "kernelspec": {
   "display_name": "Python 3 (ipykernel)",
   "language": "python",
   "name": "python3"
  },
  "language_info": {
   "codemirror_mode": {
    "name": "ipython",
    "version": 3
   },
   "file_extension": ".py",
   "mimetype": "text/x-python",
   "name": "python",
   "nbconvert_exporter": "python",
   "pygments_lexer": "ipython3",
   "version": "3.9.7"
  }
 },
 "nbformat": 4,
 "nbformat_minor": 5
}
