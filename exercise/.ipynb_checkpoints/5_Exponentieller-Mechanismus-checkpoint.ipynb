{
 "cells": [
  {
   "cell_type": "markdown",
   "id": "42907922",
   "metadata": {},
   "source": [
    "### Musterlösung zu den Kontrollfragen des vorherigen Notebooks\n",
    "\n",
    "* Ist der folgende Satz korrekt? \"Der Schutz der Privacy ist besser, je kleiner das Privacy-Budget und je grösser das Delta.\"\n",
    "> Je mehr sich das Delta an 0 annähert, desto näher kommt die Funktion an die reine und striktere Differential Privacy. Der Satz ist also falsch. Richtig wäre: \"Der Schutz der Privacy ist besser, je kleiner das Privacy-Budget und je **kleiner** das Delta.\"\n",
    "\n",
    "* Wie wird die Gauss Verteilung auch genannt?\n",
    "> Normalverteilung\n",
    "\n",
    "* Eine Person kommt potentiell in sehr vielen Statistiken (basierend auf demselben Mechanismus) vor. Wähle ich besser den Laplace oder den Gauss Mechanismus?\n",
    "> Den Gauss Mechanismus, da bei diesem das Rauschen geringer sein wird.\n",
    "\n",
    "<hr>"
   ]
  },
  {
   "cell_type": "markdown",
   "id": "01469bc1",
   "metadata": {},
   "source": [
    "# Notebook 5: Der exponentielle Mechanismus\n",
    "\n",
    "***Hier geht es zum vorherigen Notebook dieser Serie: [Notebook 4: Der Gauss Mechanismus](./4_Gauss-Mechanismus.ipynb)***"
   ]
  },
  {
   "cell_type": "markdown",
   "id": "dee3b6fe",
   "metadata": {},
   "source": [
    "## Lernziele\n",
    "\n",
    "Folgende Lernziele sollten mit der Bearbeitung dieses Jupyter Notebooks erreicht werden können:\n",
    "- Die Teilnehmenden sind in der Lage, die Eigenschaften der Differential Privacy für eine einfache Funktion mittels des exponentiellen Mechanismus zu implementieren."
   ]
  },
  {
   "cell_type": "markdown",
   "id": "7d0e01f3",
   "metadata": {},
   "source": [
    "## Definition des exponentiellen Mechanismus\n",
    "\n",
    "Der exponentielle Mechanismus ist besonders geeignet für Anwendungen, bei welchen kein Rauschen zur Ausgabe selbst hinzugefügt werden kann, wie z.B. bei **nicht-numerischen Abfragen**. Beispielsweise wenn die Krankheit ausgegeben werden soll, welche am häufigsten in der Datensammlung vorkommt. Ist die Antwort \"Diabetes\", kann ja zu diesem String nicht einfach eine Zufallszahl dazuaddiert werden. Aus diesem Grund kommt eine Bewertungsfunktion zum Einsatz, welche die möglichen Antworten bewertet. Basierend auf diesen Bewertungen wird anschliessend für jede mögliche Ausgabe eine Wahrscheinlichkeit berechnet, mit welcher diese Ausgabe vom Mechanismus ausgegeben werden soll.\n",
    "\n",
    "Die Art der Bewertungsfunktion ist abhängig vom Anwendungsfall und muss entsprechend spezifisch auf den Anwendungsfall passend implementiert werden.\n",
    "\n",
    "<div class=\"alert alert-success\">\n",
    "<b>Definition: Exponentieller Mechanismus</b>\n",
    "    <br />\n",
    "    <br /> \n",
    "Es sei die Bewertungsfunktion $q(D, \\phi)$ gegeben. Der Mechanismus $M(D)$ erfüllt die Eigenschaften von $\\varepsilon$-Differential Privacy, wenn dieser die Ausgabe $\\phi \\in \\Phi$ mit der Wahrscheinlichkeit propotional zu\n",
    "\n",
    "$$exp({\\frac{\\varepsilon * q(D, \\phi)}{2 * s}})$$\n",
    "\n",
    "ausgibt. Wobei $s$ die Sensitivität der Bewertungsfunktion und $exp()$ die Eulersche Exponentialfunktion ist.\n",
    "</div>\n",
    "\n",
    "Die Definition muss nicht im Detail verstanden werden. Wichtig ist es, dass das Prinzip des exponentiellen Mechanismus verstanden wird. Zum besseren Verständnis wird der Ablauf in <a href=\"#abb-1\">Abbildung 1</a> grafisch gezeigt.\n",
    "\n",
    "<br>\n",
    "<br>\n",
    "<center>\n",
    "<img src=\"./src/Exponentieller-Mechanismus.png\" width=\"50%\" alt=\"Funktionsweise Exponentieller Mechanismus\">\n",
    "<br>\n",
    "<br>\n",
    "<a name=\"abb-1\">Abbildung 1: Funktionsweise des exponentiellen Mechanismus</center></a>\n",
    "\n",
    "Zur Veranschaulichung des exponentiellen Machanismus folgend ein Beispiel. In <a href=\"#tab-1\">Tabelle 1</a> sind Krankheiten und die Anzahl erkrankter Personen aufgeführt. Es soll nun ein Mechanismus implementiert werden, der die häufigste Krankheit in der Datensammlung ausgibt. Die Bewertungsfunktion wird so definiert, dass diese der Anzahl Personen entspricht. \"Diabetes\" wird also eine Bewertung von \"24\" zugeteilt, \"Hepatitis\" eine Bewertung von \"8\" usw. Die Sensitivität der Bewertungsfunktion ist 1, da es sich um eine Zählfunktion handelt.\n",
    "\n",
    "Nun werden die Wahrscheinlichkeiten für die Epsilon-Werte 0.0, 0.1 und 1.0 berechnet:\n",
    "\n",
    "| Krankheit | Anzahl Personen | $\\varepsilon$ = 0.0 | $\\varepsilon$ = 0.1 | $\\varepsilon$ = 1.0 |\n",
    "| :- | :-: | :-: | :-: | :-: |\n",
    "| Diabetes | 24 | 0.25 | 0.32 | 0.12 |\n",
    "| Hepatitis | 8 | 0.25 | 0.15 | 4 * 10$^{-5}$|\n",
    "| Grippe | 28 | 0.25 | 0.40 | 0.88|\n",
    "| HIV | 5 | 0.25 | 0.13 | 8.9 * 10$^{-6}$|\n",
    "\n",
    "<br>\n",
    "<a name=\"tab-1\"><center>Tabelle 1: Wahrscheinlichkeiten bei verschiedenen $\\varepsilon$-Werten</center></a>\n",
    "\n",
    "Bei einem Epsilon von 0 wird jede Krankheit mit derselben Wahrscheinlichkeit (25%) ausgegeben. Dies hat zwar den höchsten Schutz zur Folge, reduziert aber sehr stark den Nutzen der Daten. Bei einem Epsilon-Wert von 0.1 wird zu 40% als Antwort \"Grippe\" ausgegeben, aber auch zu 32% kann die Antwort \"Diabetes\" sein. So sind Nutzen der Daten und der Schutz der Privacy ziemlich gut ausbalanciert. Bei einem Epsilon-Wert von 1 unterscheiden sich die Wahrscheinlichkeiten der Krankheiten signifikant. Zu 88% wird das Resultat \"Grippe\" sein. Dadurch wird zwar ein grosser Nutzen der Daten erreicht, jedoch auf Kosten der Privacy."
   ]
  },
  {
   "cell_type": "markdown",
   "id": "f55cdfbe",
   "metadata": {},
   "source": [
    "## Implementation des exponentiellen Mechanismus"
   ]
  },
  {
   "cell_type": "markdown",
   "id": "497fea53",
   "metadata": {},
   "source": [
    "Das oben eingeführte Beispiel mit den Krankheiten und der Anzahl erkrankter Personen wird nun implementiert. Das Ziel ist es also einen Mechanismus zu implementieren, welcher unter Einhaltung der Differential Privacy die häufigste Krankheit ausgibt. \n",
    "\n",
    "Nachfolgend werden die sensiblen (und frei erfundenen!) Daten in einem Array gespeichert:"
   ]
  },
  {
   "cell_type": "code",
   "execution_count": 1,
   "id": "6a0f09e7",
   "metadata": {},
   "outputs": [],
   "source": [
    "from array import *\n",
    "\n",
    "datensammlung = [[\"Jean\",\"Müller\",\"Hepatitis\"],\n",
    "                [\"Sarah\",\"Rochat\",\"Diabetes\"],\n",
    "                [\"Elisabeth\",\"Baumann\",\"Diabetes\"],\n",
    "                [\"Marianne\",\"Frei\",\"Diabetes\"],\n",
    "                [\"Rosa\",\"Da Silva\",\"Grippe\"],\n",
    "                [\"Juan\",\"Meier\",\"Grippe\"],\n",
    "                [\"Anita\",\"Weber\",\"HIV\"],\n",
    "                [\"Anna\",\"Schneider\",\"Grippe\"],\n",
    "                [\"Rita\",\"Rochat\",\"Diabetes\"],\n",
    "                [\"Monika\",\"Fischer\",\"Grippe\"],\n",
    "                [\"Loris\",\"Schneider\",\"Diabetes\"],\n",
    "                [\"Manuela\",\"Meyer\",\"Grippe\"],\n",
    "                [\"Eva\",\"Zürcher\",\"Grippe\"],\n",
    "                [\"Esther\",\"Rochat\",\"HIV\"],\n",
    "                [\"Beatrice\",\"Meyer\",\"Grippe\"],\n",
    "                [\"Dominique\",\"Fischer\",\"Hepatitis\"],\n",
    "                [\"Verena\",\"Elmer\",\"Diabetes\"],\n",
    "                [\"Michele\",\"Wyss\",\"Grippe\"],\n",
    "                [\"Sonja\",\"Krasniqi\",\"Grippe\"],\n",
    "                [\"Daniele\",\"Wyss\",\"Diabetes\"],\n",
    "                [\"Nicole\",\"Bucher\",\"Diabetes\"],\n",
    "                [\"Sara\",\"Bernasconi\",\"Grippe\"],\n",
    "                [\"Sandra\",\"Elmer\",\"Grippe\"],\n",
    "                [\"Robin\",\"Zürcher\",\"Diabetes\"],\n",
    "                [\"Ruth\",\"Nguyen\",\"Diabetes\"],\n",
    "                [\"Jacqueline\",\"Caduff\",\"Grippe\"],\n",
    "                [\"Susanne\",\"Caduff\",\"Grippe\"],\n",
    "                [\"Claudia\",\"Martin\",\"Diabetes\"],\n",
    "                [\"Maria\",\"Favre\",\"Diabetes\"],\n",
    "                [\"Barbara\",\"Huber\",\"Hepatitis\"],\n",
    "                [\"Ana\",\"Schmid\",\"Grippe\"],\n",
    "                [\"Laura\",\"Weber\",\"HIV\"],\n",
    "                [\"Daniela\",\"Moser\",\"Diabetes\"],\n",
    "                [\"Maxime\",\"Moser\",\"HIV\"],\n",
    "                [\"Alex\",\"Müller\",\"Grippe\"],\n",
    "                [\"Heidi\",\"Da Silva\",\"Hepatitis\"],\n",
    "                [\"Claude\",\"Frei\",\"Grippe\"],\n",
    "                [\"Karin\",\"Keller\",\"Grippe\"],\n",
    "                [\"Nicola\",\"Brunner\",\"Grippe\"],\n",
    "                [\"Noah\",\"Bernasconi\",\"Grippe\"],\n",
    "                [\"Marie\",\"Martin\",\"Diabetes\"],\n",
    "                [\"Elia\",\"Bucher\",\"Grippe\"],\n",
    "                [\"Doris\",\"Brunner\",\"HIV\"],\n",
    "                [\"Ursula\",\"Nguyen\",\"Grippe\"],\n",
    "                [\"Ali\",\"Meier\",\"Diabetes\"],\n",
    "                [\"Katharina\",\"Gerber\",\"Grippe\"],\n",
    "                [\"Irene\",\"Krasniqi\",\"Grippe\"],\n",
    "                [\"Jan\",\"Nguyen\",\"Diabetes\"],\n",
    "                [\"Margrit\",\"Steiner\",\"Grippe\"],\n",
    "                [\"Andrea\",\"Keller\",\"Hepatitis\"],\n",
    "                [\"Willy\",\"Müller\",\"Hepatitis\"],\n",
    "                [\"Erika\",\"Bernasconi\",\"Diabetes\"],\n",
    "                [\"Rui\",\"Caduff\",\"Grippe\"],\n",
    "                [\"Luca\",\"Huber\",\"Diabetes\"],\n",
    "                [\"Nino\",\"Baumann\",\"Hepatitis\"],\n",
    "                [\"Janis\",\"Elmer\",\"Diabetes\"],\n",
    "                [\"Brigitte\",\"Steiner\",\"Diabetes\"],\n",
    "                [\"Yannick\",\"Meier\",\"Grippe\"],\n",
    "                [\"Silvia\",\"Da Silva\",\"Diabetes\"],\n",
    "                [\"Andrea\",\"Gerber\",\"Diabetes\"],\n",
    "                [\"Sascha\",\"Zürcher\",\"Hepatitis\"],\n",
    "                [\"Rosmarie\",\"Krasniqi\",\"Diabetes\"],\n",
    "                [\"Julia\",\"Schmid\",\"Grippe\"],\n",
    "                [\"Stéphane\",\"Krasniqi\",\"Grippe\"],\n",
    "                [\"Yvonne\",\"Schmid\",\"Diabetes\"]]"
   ]
  },
  {
   "cell_type": "markdown",
   "id": "7d17ec09",
   "metadata": {},
   "source": [
    "Nachfolgend wird die Funktion `countDiseases` implementiert, welche die Krankheiten in der Datensammlung zählt."
   ]
  },
  {
   "cell_type": "code",
   "execution_count": 2,
   "id": "245ca02e",
   "metadata": {},
   "outputs": [],
   "source": [
    "def countDiseases(array):\n",
    "    \n",
    "    diabetes = 0\n",
    "    hepatitis = 0\n",
    "    grippe = 0\n",
    "    hiv = 0\n",
    "    \n",
    "    counts = [diabetes, hepatitis, grippe, hiv]\n",
    "    \n",
    "    for x in array:\n",
    "        if x[2] == \"Diabetes\":\n",
    "            counts[0] += 1\n",
    "        elif x[2] == \"Hepatitis\":\n",
    "            counts[1] += 1\n",
    "        elif x[2] == \"Grippe\":\n",
    "            counts[2] += 1\n",
    "        elif x[2] == \"HIV\":\n",
    "            counts[3] += 1\n",
    "        else:\n",
    "            pass\n",
    "    return counts"
   ]
  },
  {
   "cell_type": "markdown",
   "id": "d8ed2828",
   "metadata": {},
   "source": [
    "Zur Kontrolle geben wir die Anzahl der erkrankten Personen einmal aus."
   ]
  },
  {
   "cell_type": "code",
   "execution_count": 3,
   "id": "a6a4cf09",
   "metadata": {},
   "outputs": [
    {
     "name": "stdout",
     "output_type": "stream",
     "text": [
      "Diabetes: 24\n",
      "Hepatitis: 8\n",
      "Grippe: 28\n",
      "HIV: 5\n"
     ]
    }
   ],
   "source": [
    "print(\"Diabetes: \" + str(countDiseases(datensammlung)[0]))\n",
    "print(\"Hepatitis: \" + str(countDiseases(datensammlung)[1]))\n",
    "print(\"Grippe: \" + str(countDiseases(datensammlung)[2]))\n",
    "print(\"HIV: \" + str(countDiseases(datensammlung)[3]))"
   ]
  },
  {
   "cell_type": "markdown",
   "id": "4b4b129c",
   "metadata": {},
   "source": [
    "Wir sehen, dass die Zahlen identisch sind mit jenen in <a href=\"#tab-1\">Tabelle 1</a>. Wie im Beispiel erklärt, entspricht in diesem Fall die Funktion `countDiseases` auch gleich der Bewertungsfunktion. Entsprechend muss an dieser Stelle keine eigene Implementierung der Bewertungsfunktion mehr gemacht werden, sondern es kann dafür die Funktion `countDiseases` verwendet werden. Wir führen diese Funktion nun einmal aus und speichern die einzelnen Bewertungen im Array `scores` ab."
   ]
  },
  {
   "cell_type": "code",
   "execution_count": 4,
   "id": "a3434441",
   "metadata": {},
   "outputs": [],
   "source": [
    "scores = countDiseases(datensammlung)"
   ]
  },
  {
   "cell_type": "markdown",
   "id": "b8ea82f1",
   "metadata": {},
   "source": [
    "Nun werden die Wahrscheinlichkeiten für jedes Element berechnet und im Array `probabilities` gespeichert. Es wird ein $\\varepsilon$ von 0.1 und die Sensitivität von 1 verwendet."
   ]
  },
  {
   "cell_type": "code",
   "execution_count": 5,
   "id": "df590273",
   "metadata": {},
   "outputs": [],
   "source": [
    "import numpy as np\n",
    "\n",
    "epsilon = 0.1\n",
    "sensitivity = 1\n",
    "\n",
    "probabilities = [np.exp(epsilon * score / (2 * sensitivity)) for score in scores]"
   ]
  },
  {
   "cell_type": "markdown",
   "id": "c4a8026c",
   "metadata": {},
   "source": [
    "Zur Verifizierung wird der Inhalt des Arrays `probabilities` ausgegeben:"
   ]
  },
  {
   "cell_type": "code",
   "execution_count": 6,
   "id": "a672eb16",
   "metadata": {},
   "outputs": [
    {
     "name": "stdout",
     "output_type": "stream",
     "text": [
      "[3.320116922736548, 1.4918246976412703, 4.055199966844675, 1.2840254166877414]\n"
     ]
    }
   ],
   "source": [
    "print(probabilities)"
   ]
  },
  {
   "cell_type": "markdown",
   "id": "fa762837",
   "metadata": {},
   "source": [
    "Es ist ersichtlich, dass die Werte zum einen nicht mit jenen aus der Tabelle übereinstimmen und zum anderen als Summe nicht 1 ergeben. Dies liegt daran, dass die einzelnen Wahrscheinlichkeiten noch nicht normalisiert wurden, weshalb dies folgend noch gemacht wird:"
   ]
  },
  {
   "cell_type": "code",
   "execution_count": 7,
   "id": "5f3a0c9b",
   "metadata": {},
   "outputs": [],
   "source": [
    "probabilities = probabilities / np.linalg.norm(probabilities, ord=1)"
   ]
  },
  {
   "cell_type": "markdown",
   "id": "0a5983e2",
   "metadata": {},
   "source": [
    "Das Array `probabilities` sieht nun wie folgt aus:"
   ]
  },
  {
   "cell_type": "code",
   "execution_count": 8,
   "id": "db84f128",
   "metadata": {},
   "outputs": [
    {
     "name": "stdout",
     "output_type": "stream",
     "text": [
      "[0.32706751 0.14696091 0.39948116 0.12649042]\n"
     ]
    }
   ],
   "source": [
    "print(probabilities)"
   ]
  },
  {
   "cell_type": "markdown",
   "id": "d50840ea",
   "metadata": {},
   "source": [
    "Jetzt ist ersichtlich, dass diese Werte den Werten aus <a href=\"#tab-1\">Tabelle 1</a> (Spalte \"$\\varepsilon = 0.1$\") entsprechen und als Summe auch 1 (bzw. 0.999999...) ergeben."
   ]
  },
  {
   "cell_type": "markdown",
   "id": "4883965c",
   "metadata": {},
   "source": [
    "Die Implementation ist nun so weit umgesetzt, dass die Wahrscheinlichkeiten basierend auf den Scores, dem Privacy-Budget und der Sensitivität berechnet und im Array `probabilities` gespeichert werden. Als letzter Schritt muss nun noch der eigentliche Mechanismus für die Abfrage der häufigsten Krankheit umgesetzt werden. Der Mechanismus soll als Ergebnis eine der Optionen unter Berücksichtigung der vorab berechneten Wahrscheinlichkeiten zurückgeben. Dafür wird die Funktion `random.choice` der Numpy-Bibliothek verwendet (Infos zu dieser Funktion: <a href=\"https://numpy.org/doc/stable/reference/random/generated/numpy.random.choice.html\">hier</a>)."
   ]
  },
  {
   "cell_type": "code",
   "execution_count": 9,
   "id": "653f2128",
   "metadata": {},
   "outputs": [],
   "source": [
    "def dp_mostCommonDisease(diseases, probabilities):\n",
    "    return np.random.choice(diseases, 1, p=probabilities)"
   ]
  },
  {
   "cell_type": "markdown",
   "id": "8f5e72bf",
   "metadata": {},
   "source": [
    "Übersetzt heisst der Funktionsaufruf `np.random.choice(diseases, 1, p=probabilities)`:  \n",
    "\"Wähle aus allen möglichen 'diseases' zufällig '1' aus, basierend auf den Wahrscheinlichkeiten 'p=probabilities'."
   ]
  },
  {
   "cell_type": "markdown",
   "id": "b4b96596",
   "metadata": {},
   "source": [
    "Der Parameter \"diseases\" entspricht einem Array von allen möglichen Optionen, in derselben Reihenfolge, wie auch die Wahrscheinlichkeiten im Array `probabilities` angeordnet sind. Dieses Array wird nachfolgend definiert:"
   ]
  },
  {
   "cell_type": "code",
   "execution_count": 10,
   "id": "8e9fd4e8",
   "metadata": {},
   "outputs": [],
   "source": [
    "diseases = [\"Diabetes\",\n",
    "            \"Hepatitis\",\n",
    "            \"Grippe\",\n",
    "            \"HIV\"]"
   ]
  },
  {
   "cell_type": "markdown",
   "id": "48a18c2f",
   "metadata": {},
   "source": [
    "Der Mechanismus `dp_mostCommonDisease` erfüllt die Eigenschaften der Differential Privacy, entsprechend ist diese nicht mehr deterministisch, sondern probabilistisch. Nachfolgend wird der Mechanismus 10 mal ausgeführt:"
   ]
  },
  {
   "cell_type": "code",
   "execution_count": 11,
   "id": "646916bf",
   "metadata": {},
   "outputs": [
    {
     "name": "stdout",
     "output_type": "stream",
     "text": [
      "['HIV']\n",
      "['Diabetes']\n",
      "['Hepatitis']\n",
      "['Diabetes']\n",
      "['Hepatitis']\n",
      "['Grippe']\n",
      "['Grippe']\n",
      "['Diabetes']\n",
      "['Grippe']\n",
      "['Diabetes']\n"
     ]
    }
   ],
   "source": [
    "for i in range(10):\n",
    "    print(dp_mostCommonDisease(diseases, probabilities))"
   ]
  },
  {
   "cell_type": "markdown",
   "id": "ea602295",
   "metadata": {},
   "source": [
    "Es ist ersichtlich, dass die Ausgabe beim mehrmaligen Ausführen nicht immer gleich ist und die Ergebnisse nach den berechneten Wahrscheinlichkeiten verteilt sind. Weiter ist es wichtig zu erwähnen, dass auch hier die Komposition des Privacy-Budgets beim mehrmaligen Ausführen des Mechanismus berücksichtigt werden muss (siehe \"Wichtige Erkenntnis\" im [Notebook 3: Der Laplace Mechanismus](./3_Laplace-Mechanismus.ipynb))."
   ]
  },
  {
   "cell_type": "markdown",
   "id": "eb1e72e7",
   "metadata": {},
   "source": [
    "<div class=\"alert alert-danger\">\n",
    "    <h2>Übung: Exponentieller Mechanismus</h2>\n",
    "    <br />\n",
    "Ändere das Epsilon in der obigen Implementation auf unterschiedliche Werte ab und beobachte, wie sich die Wahrscheinlichkeiten und Ausgaben verändern. Wähle auch ein Epsilon von 0.0 sowie 1.0 und vergleiche die Wahrscheinlichkeiten mit den Werten in <a href=\"#tab-1\">Tabelle 1</a>.\n",
    "<br />\n",
    "<br />\n",
    "<i>Hinweis: Eine Musterlösung ist im <a href=\"./7_Musterlösungen-der-Übungen.ipynb\">Notebook 7: Musterlösungen der Übungen</a> zu finden.</i>\n",
    "</div>"
   ]
  },
  {
   "cell_type": "markdown",
   "id": "c0acc1bb",
   "metadata": {},
   "source": [
    "## Realitätsnahes Beispiel vom exponentiellen Mechanismus\n",
    "\n",
    "Zur Veranschaulichung wird ein weiteres Beispiel zum exponentiellen Mechanismus gegeben. Es werden die Daten zu den Berufsgruppen von 37'080 Personen aus Neuseeland ausgewertet. \n",
    "\n",
    "| Industry Code | Industry Name |\n",
    "| :- | :- |\n",
    "| CC32 | Pulp, Paper and Converted Paper Product Manufacturing |\n",
    "| CC321 | Pulp, Paper and Converted Paper Product Manufacturing |\n",
    "| GH134 | Pharmaceutical and Other Store Based Retailing |\n",
    "| GH11 | Motor Vehicle and Motor Vehicle Parts and Fuel Retailing |\n",
    "| EE13 | Construction Services |\n",
    "| ... | ... |\n",
    "<br>\n",
    "<a name=\"tab-2\"><center>Tabelle 2: Daten zu den Berufsgruppen von Personen</center></a>\n",
    "\n",
    "Es soll nun die Berufsgruppe ausgegeben werden, in welcher die meisten Personen arbeiten. Nachfolgend werden die Daten geladen und in `data` gespeichert. Weiter wird im Array `onlyProfessionGroups` nur die zweite Spalte der Tabelle gespeichert, da die erste Spalte nicht benötigt wird. Zudem wird in `listOfProfessionGroups` eine Liste aller Berufsgruppen gespeichert."
   ]
  },
  {
   "cell_type": "code",
   "execution_count": 12,
   "id": "03ce2ed6",
   "metadata": {},
   "outputs": [],
   "source": [
    "import csv\n",
    "import collections\n",
    "\n",
    "with open('./src/profession-groups-nz.csv', newline='') as csvfile:\n",
    "    data = list(csv.reader(csvfile, delimiter=';'))\n",
    "\n",
    "#Nur die zweite Spalte mit den Berufsgruppen in einem Array zwischenspeichern\n",
    "onlyProfessionGroups = []\n",
    "for x in data:\n",
    "    onlyProfessionGroups.append(x[1])\n",
    "\n",
    "#Liste aller Berufsgruppen\n",
    "listOfProfessionGroups = list(dict.fromkeys(onlyProfessionGroups))"
   ]
  },
  {
   "cell_type": "markdown",
   "id": "668fc59f",
   "metadata": {},
   "source": [
    "Als Bewertungsfunktion wird in diesem Beispiel wiederum die Anzahl der einzelnen Berufsgruppen gewählt. Es wird die Zählfunktion implementiert, welche die Anzahl Personen pro Berufsgruppe zurückgibt."
   ]
  },
  {
   "cell_type": "code",
   "execution_count": 13,
   "id": "85eaa006",
   "metadata": {},
   "outputs": [],
   "source": [
    "def countProfessionGroup(data):   \n",
    "    #Die Anzahl Einträge pro Berufsgruppe als Collection zurückgeben\n",
    "    return collections.Counter(onlyProfessionGroups)"
   ]
  },
  {
   "cell_type": "markdown",
   "id": "e17a6164",
   "metadata": {},
   "source": [
    "Nun werden die Wahrscheinlichkeiten pro Berufsgruppe berechnet und normalisiert in `probabilities` gespeichert."
   ]
  },
  {
   "cell_type": "code",
   "execution_count": 14,
   "id": "ba4a124d",
   "metadata": {},
   "outputs": [],
   "source": [
    "epsilon = 0.1\n",
    "sensitivity = 1\n",
    "\n",
    "probabilities = [np.exp(epsilon * score / (2 * sensitivity)) for score in countProfessionGroup(data).values()]\n",
    "\n",
    "#Normalisieren der Wahrscheinlichkeiten\n",
    "probabilities = probabilities / np.linalg.norm(probabilities, ord=1)"
   ]
  },
  {
   "cell_type": "markdown",
   "id": "a384aaa2",
   "metadata": {},
   "source": [
    "Der Mechanismus `dp_mostCommonProfessionGroup` gibt nun basierend auf den berechneten Wahrscheinlichkeiten die häufigste Berufsgruppe an."
   ]
  },
  {
   "cell_type": "code",
   "execution_count": 15,
   "id": "aab70115",
   "metadata": {},
   "outputs": [
    {
     "name": "stdout",
     "output_type": "stream",
     "text": [
      "Resultat mit DP: ['Public Order, Safety and Regulatory Services']\n"
     ]
    }
   ],
   "source": [
    "def dp_mostCommonProfessionGroup(professionGroups, probabilities):\n",
    "    return np.random.choice(professionGroups, 1, p=probabilities)\n",
    "\n",
    "print(\"Resultat mit DP: \" + str(dp_mostCommonProfessionGroup(listOfProfessionGroups, probabilities)))"
   ]
  },
  {
   "cell_type": "markdown",
   "id": "0f91e67b",
   "metadata": {},
   "source": [
    "Zum Vergleich nachfolgend noch das tatsächliche Resultat (ohne Differential Privacy)."
   ]
  },
  {
   "cell_type": "code",
   "execution_count": 16,
   "id": "9327b23b",
   "metadata": {},
   "outputs": [
    {
     "name": "stdout",
     "output_type": "stream",
     "text": [
      "Resultat ohne DP: [('Public Order, Safety and Regulatory Services', 682)]\n"
     ]
    }
   ],
   "source": [
    "print (\"Resultat ohne DP:\",countProfessionGroup(data).most_common(1))"
   ]
  },
  {
   "cell_type": "markdown",
   "id": "c03bcbca",
   "metadata": {},
   "source": [
    "Es ist ersichtlich, dass offenbar der Mechanismus dasselbe Resultat liefert, als die Funktion ohne Differential Privacy. Die wichtige Frage ist nun aber, wie zuverlässig der Mechanismus das richtige Resultat liefert.\n",
    "\n",
    "Wir führen den Mechanismus 1000 mal aus und vergleichen die Resultate."
   ]
  },
  {
   "cell_type": "code",
   "execution_count": 17,
   "id": "9942d706",
   "metadata": {},
   "outputs": [
    {
     "name": "stdout",
     "output_type": "stream",
     "text": [
      "['Public Order, Safety and Regulatory Services']: 949\n",
      "['Rental and Hiring Services (except Real Estate)']: 1\n",
      "['Polymer Product and Rubber Product Manufacturing']: 8\n",
      "['Primary Metal and Metal Product Manufacturing']: 4\n",
      "['Printing']: 3\n",
      "['Non-Metallic Mineral Product Manufacturing']: 7\n",
      "['Forestry and Logging']: 2\n",
      "['Transport Equipment Manufacturing']: 3\n",
      "['Petroleum and Coal Product Manufacturing']: 4\n",
      "['Fabricated Metal Product Manufacturing']: 7\n",
      "['Pulp, Paper and Converted Paper Product Manufacturing']: 3\n",
      "['Beverage and Tobacco Product Manufacturing']: 6\n",
      "['Road Transport']: 2\n",
      "['Wood Product Manufacturing']: 1\n"
     ]
    }
   ],
   "source": [
    "samples = []\n",
    "\n",
    "for i in range(1000):\n",
    "    samples.append(str(dp_mostCommonProfessionGroup(listOfProfessionGroups, probabilities)))\n",
    "\n",
    "for key, value in collections.Counter(samples).items():\n",
    "    print(str(key) + \": \" + str(value))"
   ]
  },
  {
   "cell_type": "markdown",
   "id": "13f297e0",
   "metadata": {},
   "source": [
    "Es ist ersichtlich, dass die korrekte Aussage in ~950 / 1000 Fällen gemacht wurde. Der Mechanismus funktioniert also sehr zuverlässig."
   ]
  },
  {
   "cell_type": "markdown",
   "id": "830b26c6",
   "metadata": {},
   "source": [
    "## Kontrollfragen\n",
    "\n",
    "* Es soll aus einer Datensammlung der häufigste Zivilstand ausgegeben werden. Welcher Mechanismus ist dafür am besten geeignet?\n",
    "* Was könnte für den oben genannten Fall als Bewertungsfunktion verwendet werden?\n",
    "\n",
    "_Hinweis: Eine Musterlösung der Kontrollfragen ist im nächsten Notebook zu finden._"
   ]
  },
  {
   "cell_type": "markdown",
   "id": "53832169",
   "metadata": {},
   "source": [
    "***Hier geht es zum nächsten Notebook dieser Serie: [Notebook 6: Anwendungsfälle und Grenzen der Differential Privacy](./6_Anwendungsfälle-Grenzen.ipynb)***"
   ]
  }
 ],
 "metadata": {
  "kernelspec": {
   "display_name": "Python 3 (ipykernel)",
   "language": "python",
   "name": "python3"
  },
  "language_info": {
   "codemirror_mode": {
    "name": "ipython",
    "version": 3
   },
   "file_extension": ".py",
   "mimetype": "text/x-python",
   "name": "python",
   "nbconvert_exporter": "python",
   "pygments_lexer": "ipython3",
   "version": "3.9.7"
  }
 },
 "nbformat": 4,
 "nbformat_minor": 5
}
