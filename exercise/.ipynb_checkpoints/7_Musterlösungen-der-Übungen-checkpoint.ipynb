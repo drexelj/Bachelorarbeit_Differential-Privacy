{
 "cells": [
  {
   "cell_type": "markdown",
   "id": "f040eaeb",
   "metadata": {},
   "source": [
    "# Notebook 7: Musterlösungen\n",
    "\n",
    "In diesem Notebook sind die Musterlösungen zu den Übungen aufgeführt."
   ]
  },
  {
   "cell_type": "markdown",
   "id": "168ea9fc",
   "metadata": {},
   "source": [
    "## Übung: $k$-Anonymität\n",
    "\n",
    "Die ursprüngliche Tabelle war wie folgt gegeben:\n",
    "\n",
    "<br>\n",
    "\n",
    "<table>\n",
    "<thead>\n",
    "  <tr>\n",
    "    <th style=\"text-align: left\">Vorname</th>\n",
    "    <th style=\"text-align: left\">Nachname</th>\n",
    "    <th style=\"text-align: left\">Geburtsdatum</th>\n",
    "    <th style=\"text-align: left\">PLZ</th>\n",
    "    <th style=\"text-align: left\">Grösse</th>\n",
    "    <th style=\"text-align: left\">Straftat</th>\n",
    "  </tr>\n",
    "</thead>\n",
    "<tbody>\n",
    "  <tr>\n",
    "    <td style=\"text-align: left\">Matteo</td>\n",
    "    <td style=\"text-align: left\">Müller</td>\n",
    "    <td style=\"text-align: left\">02.03.1996</td>\n",
    "    <td style=\"text-align: left\">8400</td>\n",
    "    <td style=\"text-align: left\">186</td>\n",
    "    <td style=\"text-align: left\">Anbau von Betäubungsmitteln</td>\n",
    "  </tr>\n",
    "  <tr>\n",
    "    <td style=\"text-align: left\">Leon</td>\n",
    "    <td style=\"text-align: left\">Meier</td>\n",
    "    <td style=\"text-align: left\">15.06.1999</td>\n",
    "    <td style=\"text-align: left\">8405</td>\n",
    "    <td style=\"text-align: left\">193</td>\n",
    "    <td style=\"text-align: left\">Verkauf von Betäubungsmitteln</td>\n",
    "  </tr>\n",
    "  <tr>\n",
    "    <td style=\"text-align: left\">Emilia</td>\n",
    "    <td style=\"text-align: left\">Schmid</td>\n",
    "    <td style=\"text-align: left\">23.05.2001</td>\n",
    "    <td style=\"text-align: left\">9001</td>\n",
    "    <td style=\"text-align: left\">168</td>\n",
    "    <td style=\"text-align: left\">Unterschlagung</td>\n",
    "  </tr>\n",
    "  <tr>\n",
    "    <td style=\"text-align: left\">Noah</td>\n",
    "    <td style=\"text-align: left\">Keller</td>\n",
    "    <td style=\"text-align: left\">26.11.1994</td>\n",
    "    <td style=\"text-align: left\">8401</td>\n",
    "    <td style=\"text-align: left\">172</td>\n",
    "    <td style=\"text-align: left\">Besitz von Betäubungsmitteln</td>\n",
    "  </tr>\n",
    "  <tr>\n",
    "    <td style=\"text-align: left\">Mia</td>\n",
    "    <td style=\"text-align: left\">Weber</td>\n",
    "    <td style=\"text-align: left\">13.08.1996</td>\n",
    "    <td style=\"text-align: left\">8400</td>\n",
    "    <td style=\"text-align: left\">162</td>\n",
    "    <td style=\"text-align: left\">Verkauf von Betäubungsmitteln</td>\n",
    "  </tr>\n",
    "  <tr>\n",
    "    <td style=\"text-align: left\">Louis</td>\n",
    "    <td style=\"text-align: left\">Huber</td>\n",
    "    <td style=\"text-align: left\">17.06.2003</td>\n",
    "    <td style=\"text-align: left\">9000</td>\n",
    "    <td style=\"text-align: left\">183</td>\n",
    "    <td style=\"text-align: left\">Betrug</td>\n",
    "  </tr>\n",
    "  <tr>\n",
    "    <td style=\"text-align: left\">Elias</td>\n",
    "    <td style=\"text-align: left\">Schneider</td>\n",
    "    <td style=\"text-align: left\">12.07.1995</td>\n",
    "    <td style=\"text-align: left\">8416</td>\n",
    "    <td style=\"text-align: left\">188</td>\n",
    "    <td style=\"text-align: left\">Kauf von Betäubungsmitteln</td>\n",
    "  </tr>\n",
    "  <tr>\n",
    "    <td style=\"text-align: left\">Lea</td>\n",
    "    <td style=\"text-align: left\">Steiner</td>\n",
    "    <td style=\"text-align: left\">19.12.2000</td>\n",
    "    <td style=\"text-align: left\">9006</td>\n",
    "    <td style=\"text-align: left\">158</td>\n",
    "    <td style=\"text-align: left\">Veruntreuung</td>\n",
    "  </tr>\n",
    "  <tr>\n",
    "    <td style=\"text-align: left\">Sofia</td>\n",
    "    <td style=\"text-align: left\">Brunner</td>\n",
    "    <td style=\"text-align: left\">27.10.2004</td>\n",
    "    <td style=\"text-align: left\">9016</td>\n",
    "    <td style=\"text-align: left\">176</td>\n",
    "    <td style=\"text-align: left\">Diebstahl</td>\n",
    "  </tr>\n",
    "</tbody>\n",
    "</table>\n",
    "\n",
    "Das sensitive Attribut ist \"Straftat\".\n",
    "\n",
    "Anhand der folgenden Schritte kann daraus eine 4-anonyme Datensammlung erstellt werden. Dies ist aber nur ein Musterbeispiel, es gibt selbstverständlich noch weitere korrekte Lösungen.\n",
    "\n",
    "1. Attribute \"Vorname\" und \"Nachname\" entfernen.\n",
    "2. Das Attribut \"Geburtsdatum\" generalisieren und nur die ersten drei Stellen der Jahrgänge angeben.\n",
    "3. Das Attribut \"PLZ\" generalisieren und nur die ersten zwei Stellen der PLZ angeben.\n",
    "4. Das Attribut \"Grösse\" generalisieren und nur einen Bereich für die Grösse angeben.\n",
    "\n",
    "Daraus ergibt sich folgende 4-anonyme Tabelle:\n",
    "\n",
    "<table>\n",
    "<thead>\n",
    "  <tr>\n",
    "    <th style=\"text-align: left\">Vorname</th>\n",
    "    <th style=\"text-align: left\">Nachname</th>\n",
    "    <th style=\"text-align: left\">Geburtsdatum</th>\n",
    "    <th style=\"text-align: left\">PLZ</th>\n",
    "    <th style=\"text-align: left\">Grösse</th>\n",
    "    <th style=\"text-align: left\">Straftat</th>\n",
    "  </tr>\n",
    "</thead>\n",
    "<tbody>\n",
    "  <tr>\n",
    "    <td></td>\n",
    "    <td></td>\n",
    "      <td style=\"text-align: left\"><span style=\"color:blue\">199*</span></td>\n",
    "    <td style=\"text-align: left\"><span style=\"color:blue\">84**</span></td>\n",
    "    <td style=\"text-align: left\"><span style=\"color:blue\">160 - 195</span></td>\n",
    "    <td style=\"text-align: left\"><span style=\"color:blue\">Anbau von Betäubungsmitteln</span></td>\n",
    "  </tr>\n",
    "  <tr>\n",
    "    <td style=\"text-align: left\"></td>\n",
    "    <td style=\"text-align: left\"></td>\n",
    "      <td style=\"text-align: left\"><span style=\"color:blue\">199*</span></td>\n",
    "    <td style=\"text-align: left\"><span style=\"color:blue\">84**</span></td>\n",
    "    <td style=\"text-align: left\"><span style=\"color:blue\">160 - 195</span></td>\n",
    "    <td style=\"text-align: left\"><span style=\"color:blue\">Verkauf von Betäubungsmitteln</span></td>\n",
    "  </tr>\n",
    "  <tr>\n",
    "    <td style=\"text-align: left\"></td>\n",
    "    <td style=\"text-align: left\"></td>\n",
    "      <td style=\"text-align: left\"><span style=\"color:red\">200*</span></td>\n",
    "    <td style=\"text-align: left\"><span style=\"color:red\">90**</span></td>\n",
    "    <td style=\"text-align: left\"><span style=\"color:red\">155 - 185</span></td>\n",
    "    <td style=\"text-align: left\"><span style=\"color:red\">Unterschlagung</span></td>\n",
    "  </tr>\n",
    "  <tr>\n",
    "    <td style=\"text-align: left\"></td>\n",
    "    <td style=\"text-align: left\"></td>\n",
    "      <td style=\"text-align: left\"><span style=\"color:blue\">199*</span></td>\n",
    "    <td style=\"text-align: left\"><span style=\"color:blue\">84**</span></td>\n",
    "    <td style=\"text-align: left\"><span style=\"color:blue\">160 - 195</span></td>\n",
    "    <td style=\"text-align: left\"><span style=\"color:blue\">Besitz von Betäubungsmitteln</span></td>\n",
    "  </tr>\n",
    "  <tr>\n",
    "    <td style=\"text-align: left\"></td>\n",
    "    <td style=\"text-align: left\"></td>\n",
    "      <td style=\"text-align: left\"><span style=\"color:blue\">199*</span></td>\n",
    "    <td style=\"text-align: left\"><span style=\"color:blue\">84**</span></td>\n",
    "    <td style=\"text-align: left\"><span style=\"color:blue\">160 - 195</span></td>\n",
    "    <td style=\"text-align: left\"><span style=\"color:blue\">Verkauf von Betäubungsmitteln</span></td>\n",
    "  </tr>\n",
    "  <tr>\n",
    "    <td style=\"text-align: left\"></td>\n",
    "    <td style=\"text-align: left\"></td>\n",
    "      <td style=\"text-align: left\"><span style=\"color:red\">200*</span></td>\n",
    "    <td style=\"text-align: left\"><span style=\"color:red\">90**</span></td>\n",
    "    <td style=\"text-align: left\"><span style=\"color:red\">155 - 185</span></td>\n",
    "    <td style=\"text-align: left\"><span style=\"color:red\">Betrug</span></td>\n",
    "  </tr>\n",
    "  <tr>\n",
    "    <td style=\"text-align: left\"></td>\n",
    "    <td style=\"text-align: left\"></td>\n",
    "      <td style=\"text-align: left\"><span style=\"color:blue\">199*</span></td>\n",
    "    <td style=\"text-align: left\"><span style=\"color:blue\">84**</span></td>\n",
    "    <td style=\"text-align: left\"><span style=\"color:blue\">160 - 195</span></td>\n",
    "    <td style=\"text-align: left\"><span style=\"color:blue\">Kauf von Betäubungsmitteln</span></td>\n",
    "  </tr>\n",
    "  <tr>\n",
    "    <td style=\"text-align: left\"></td>\n",
    "    <td style=\"text-align: left\"></td>\n",
    "      <td style=\"text-align: left\"><span style=\"color:red\">200*</span></td>\n",
    "    <td style=\"text-align: left\"><span style=\"color:red\">90**</span></td>\n",
    "    <td style=\"text-align: left\"><span style=\"color:red\">155 - 185</span></td>\n",
    "    <td style=\"text-align: left\"><span style=\"color:red\">Veruntreuung</span></td>\n",
    "  </tr>\n",
    "  <tr>\n",
    "    <td style=\"text-align: left\"></td>\n",
    "    <td style=\"text-align: left\"></td>\n",
    "      <td style=\"text-align: left\"><span style=\"color:red\">200*</span></td>\n",
    "    <td style=\"text-align: left\"><span style=\"color:red\">90**</span></td>\n",
    "    <td style=\"text-align: left\"><span style=\"color:red\">155 - 185</span></td>\n",
    "    <td style=\"text-align: left\"><span style=\"color:red\">Diebstahl</span></td>\n",
    "  </tr>\n",
    "</tbody>\n",
    "</table>"
   ]
  },
  {
   "cell_type": "markdown",
   "id": "58f8c62a",
   "metadata": {},
   "source": [
    "## Übung: Wahrscheinlichkeiten und Privacy-Budget\n",
    "    \n",
    "Die folgenden Werte sind gegeben:\n",
    "- $\\mathbb{P}[M(D_1) = A] = 0.029$\n",
    "- $\\mathbb{P}[M(D_2) = A] = 0.036$\n",
    "- $\\varepsilon = 0.1$\n",
    "\n",
    "\\begin{align*}\n",
    "& e^{-0.1} * 0.036 &\\leq 0.029 &\\leq e^{0.1} * 0.036 \\\\\n",
    "\\cong & 0.904 * 0.036 &\\leq 0.029 &\\leq 1.105 * 0.036 \\\\\n",
    "\\cong & 0.032 &\\leq 0.029 &\\leq 0.0397\n",
    "\\end{align*}\n",
    "\n",
    "Die Eigenschaften der $0.1$-Differential Privacy sind in diesem Beispiel somit NICHT erfüllt."
   ]
  },
  {
   "cell_type": "markdown",
   "id": "ac2ddc52",
   "metadata": {},
   "source": [
    "## Übung: Komposition des Privacy-Budgets\n",
    "\n",
    "\n",
    "**Frage 1:** Welche Art von Komposition ist gegeben, wenn beide Mechanismen über der genannten Datensammlung ausgeführt werden? \n",
    "\n",
    "> Da sich beide Mechanismen überschneiden, also nicht disjunkt sind, muss die sequentielle Komposition angewendet werden.\n",
    "\n",
    "**Frage 2:** Für beide Mechanismen wird ein Privacy-Budget von 0.4 festgelegt. Wie gross ist das Privacy-Budget der Komposition beider Mechanismen?\n",
    "\n",
    "> Da die sequentielle Komposition angewendet wird, müssen die einzelnen Budgets addiert werden. Somit ergibt sich ein Privacy-Budget von 0.8 für die Komposition beider Mechanismen."
   ]
  },
  {
   "cell_type": "markdown",
   "id": "03260035",
   "metadata": {},
   "source": [
    "## Übung: Einfluss des Privacy-Budgets auf die Ergebnisse\n",
    "\n",
    "Folgend der notwendige Code, um das Beispiel wie in der Übung ausführen zu können."
   ]
  },
  {
   "cell_type": "code",
   "execution_count": 1,
   "id": "a8bc0a55",
   "metadata": {},
   "outputs": [],
   "source": [
    "from array import *\n",
    "import numpy as np\n",
    "\n",
    "datensammlung = [[\"Heinz\", \"Müller\", 1958, \"M\"], \n",
    "                 [\"Maria\", \"Meier\", 1965, \"F\"], \n",
    "                 [\"Jolanda\", \"Heine\", 1968, \"F\"], \n",
    "                 [\"Markus\", \"Inauen\", 1978, \"M\"],\n",
    "                 [\"Sarah\", \"Hauser\", 1994, \"F\"]]\n",
    "\n",
    "def countFemales(array):\n",
    "    count = 0\n",
    "    for x in array:\n",
    "        if x[3] == \"F\":\n",
    "            count += 1\n",
    "    return count\n",
    "\n",
    "\n",
    "def dp_lap_countFemales(array, sensitivity, epsilon):\n",
    "    return countFemales(array) + np.random.laplace(loc=0, scale=sensitivity/epsilon)"
   ]
  },
  {
   "cell_type": "markdown",
   "id": "4eccabac",
   "metadata": {},
   "source": [
    "Der Mechanismus wird mit einem Privacy-Budget von 1.2 ausgeführt, wie es im Beispiel gegeben war."
   ]
  },
  {
   "cell_type": "code",
   "execution_count": 2,
   "id": "541e658c",
   "metadata": {},
   "outputs": [
    {
     "name": "stdout",
     "output_type": "stream",
     "text": [
      "-14.20834709995927\n",
      "-7.627473766184119\n",
      "10.811331472351988\n",
      "-0.4881028718329974\n",
      "2.486800652190425\n",
      "-7.303338989076543\n",
      "20.14732874787658\n",
      "-6.305515834677953\n",
      "-5.0687719078652425\n",
      "-1.8867731422518172\n"
     ]
    }
   ],
   "source": [
    "for i in range(10):\n",
    "    print(dp_lap_countFemales(datensammlung, 1, 0.1))"
   ]
  },
  {
   "cell_type": "markdown",
   "id": "63b3bd78",
   "metadata": {},
   "source": [
    "Nachfolgend nun ein niedriges Privacy-Budget von 0.01:"
   ]
  },
  {
   "cell_type": "code",
   "execution_count": 3,
   "id": "5464a644",
   "metadata": {},
   "outputs": [
    {
     "name": "stdout",
     "output_type": "stream",
     "text": [
      "-25.151635508962265\n",
      "60.479661010862806\n",
      "179.1643440467347\n",
      "-150.64731177158407\n",
      "232.6452895394998\n",
      "-152.731135998204\n",
      "-10.904641351199981\n",
      "143.80672707834577\n",
      "6.896757465203396\n",
      "73.9009307801562\n"
     ]
    }
   ],
   "source": [
    "for i in range(10):\n",
    "    print(dp_lap_countFemales(datensammlung, 1, 0.01))"
   ]
  },
  {
   "cell_type": "markdown",
   "id": "6ef622f7",
   "metadata": {},
   "source": [
    "Und nun noch mit einem sehr hohen Budget von 12:"
   ]
  },
  {
   "cell_type": "code",
   "execution_count": 4,
   "id": "12f87ed5",
   "metadata": {},
   "outputs": [
    {
     "name": "stdout",
     "output_type": "stream",
     "text": [
      "3.0189149429711017\n",
      "2.733886413591889\n",
      "2.920146995759158\n",
      "3.059626164016772\n",
      "3.118469614135618\n",
      "2.9399451854620846\n",
      "2.930571747909777\n",
      "3.007168869276251\n",
      "3.137894045382323\n",
      "3.0282426548393917\n"
     ]
    }
   ],
   "source": [
    "for i in range(10):\n",
    "    print(dp_lap_countFemales(datensammlung, 1, 12))"
   ]
  },
  {
   "cell_type": "markdown",
   "id": "57d2fb40",
   "metadata": {},
   "source": [
    "Es ist ersichtlich, dass die Ergebnisse viel stärker steuen und vom tatsächlichen Wert (3) abweichen, je kleiner das Privacy-Budget gewählt wird. Bei einem grossen Privacy-Budget ist die Abweichung zum tatsächlichen Wert nur sehr gering."
   ]
  },
  {
   "cell_type": "markdown",
   "id": "bd8c8ed5",
   "metadata": {},
   "source": [
    "## Übung: Gauss Mechanismus\n",
    "\n",
    "Folgend der notwendige Code, um das Beispiel wie in der Übung ausführen zu können."
   ]
  },
  {
   "cell_type": "code",
   "execution_count": 5,
   "id": "b4d0f29a",
   "metadata": {},
   "outputs": [],
   "source": [
    "from array import *\n",
    "import numpy as np\n",
    "\n",
    "datensammlung = [[\"Heinz\", \"Müller\", 1958, \"M\"], \n",
    "                 [\"Maria\", \"Meier\", 1965, \"F\"], \n",
    "                 [\"Jolanda\", \"Heine\", 1968, \"F\"], \n",
    "                 [\"Markus\", \"Inauen\", 1978, \"M\"],\n",
    "                 [\"Sarah\", \"Hauser\", 1994, \"F\"]]\n",
    "\n",
    "def countFemales(array):\n",
    "    count = 0\n",
    "    for x in array:\n",
    "        if x[3] == \"F\":\n",
    "            count += 1\n",
    "    return count\n",
    "\n",
    "def dp_gauss_countFemales(array, sensitivity, epsilon, delta):\n",
    "    sigma = (np.sqrt(2 * np.log(1.25 / delta)) * sensitivity) / epsilon\n",
    "    return countFemales(array) + np.random.normal(loc=0, scale=sigma)"
   ]
  },
  {
   "cell_type": "markdown",
   "id": "62b51f88",
   "metadata": {},
   "source": [
    "Beispiel für die Implementation der Aufgabe:"
   ]
  },
  {
   "cell_type": "code",
   "execution_count": 6,
   "id": "de9e97b6",
   "metadata": {},
   "outputs": [
    {
     "name": "stdout",
     "output_type": "stream",
     "text": [
      "3.2356502081297505\n"
     ]
    }
   ],
   "source": [
    "results = 0\n",
    "\n",
    "for i in range(1000):\n",
    "    results += (dp_gauss_countFemales(datensammlung, 1, 0.1, 10e-5))\n",
    "    \n",
    "mean = results / 1000\n",
    "\n",
    "print(mean)"
   ]
  },
  {
   "cell_type": "markdown",
   "id": "30b1f1fb",
   "metadata": {},
   "source": [
    "Bei Epsilon von 0.1 sieht man, dass der Durchschnitt teilweise deutlich vom echten Ergebnis (3) entfernt ist (Code mehrmals ausführen und die Ausgabe vergleichen).\n",
    "\n",
    "Wir vesuchen mal ein Epsilon von 12:"
   ]
  },
  {
   "cell_type": "code",
   "execution_count": 7,
   "id": "87b09f80",
   "metadata": {},
   "outputs": [
    {
     "name": "stdout",
     "output_type": "stream",
     "text": [
      "3.030902861720173\n"
     ]
    }
   ],
   "source": [
    "results = 0\n",
    "\n",
    "for i in range(1000):\n",
    "    results += (dp_gauss_countFemales(datensammlung, 1, 12, 10e-5))\n",
    "    \n",
    "mean = results / 1000\n",
    "\n",
    "print(mean)"
   ]
  },
  {
   "cell_type": "markdown",
   "id": "097ac47a",
   "metadata": {},
   "source": [
    "Der Durchschnitt liegt bei einem hohen Privacy Budget nun auch bei mehrmaligem Ausführen ziemlich nahe bei 3.\n",
    "\n",
    "Wir probieren noch ein sehr kleines Privacy Budget von 0.001:"
   ]
  },
  {
   "cell_type": "code",
   "execution_count": 8,
   "id": "5256596f",
   "metadata": {},
   "outputs": [
    {
     "name": "stdout",
     "output_type": "stream",
     "text": [
      "221.20551293306045\n"
     ]
    }
   ],
   "source": [
    "results = 0\n",
    "\n",
    "for i in range(1000):\n",
    "    results += (dp_gauss_countFemales(datensammlung, 1, 0.001, 10e-5))\n",
    "    \n",
    "mean = results / 1000\n",
    "\n",
    "print(mean)"
   ]
  },
  {
   "cell_type": "markdown",
   "id": "f0ed06a0",
   "metadata": {},
   "source": [
    "Die Streuung der Ergebnisse ist nun deutlich höher. Wir sehen also, dass das Epsilon genau dasselbe macht, wie es beim Laplace Mechanismus gemacht hat. Es hat Einfluss auf die Menge des Rauschens und somit die Stärke des Privacy-Schutzes.\n",
    "\n",
    "Wir belassen nun das Epsilon mal auf 0.001 (starkes Budget und somit starkes Rauschen) und verändern das Delta. Zur Erinnerung: Das Delta verhindert einfach gesagt \"Worst Case\" Szenarien oder extreme Ergebnisse.\n",
    "\n",
    "Wir wählen mal ein Delta von 1. Damit wir den Mechanismus nicht manuell mehrmals ausführen müssen, implementieren wir eine weitere Schleife:"
   ]
  },
  {
   "cell_type": "code",
   "execution_count": 9,
   "id": "9f7d8af6",
   "metadata": {},
   "outputs": [
    {
     "name": "stdout",
     "output_type": "stream",
     "text": [
      "-13.778309796466148\n",
      "-3.597349567654147\n",
      "-20.839964324483944\n",
      "24.202707462394436\n",
      "46.939405070825046\n",
      "8.941168706660168\n",
      "-22.41153846211909\n",
      "-12.547958628295\n",
      "-0.9163369502431017\n",
      "-20.240795250669503\n"
     ]
    }
   ],
   "source": [
    "for i in range(10):\n",
    "    results = 0\n",
    "    for j in range(1000):\n",
    "        results += (dp_gauss_countFemales(datensammlung, 1, 0.001, 1))\n",
    "    print(results / 1000)"
   ]
  },
  {
   "cell_type": "markdown",
   "id": "8311c572",
   "metadata": {},
   "source": [
    "Zum Vergleich nun ein sehr kleines Delta von 0.0000000000000001"
   ]
  },
  {
   "cell_type": "code",
   "execution_count": 10,
   "id": "d5687a6b",
   "metadata": {},
   "outputs": [
    {
     "name": "stdout",
     "output_type": "stream",
     "text": [
      "-470.98652034796095\n",
      "-522.6011361943295\n",
      "92.84989976693558\n",
      "353.34270951705406\n",
      "-207.0121687248515\n",
      "-82.89697021331212\n",
      "-500.2555980442452\n",
      "768.3097360667628\n",
      "41.59981938105152\n",
      "193.1191325351779\n"
     ]
    }
   ],
   "source": [
    "for i in range(10):\n",
    "    results = 0\n",
    "    for j in range(1000):\n",
    "        results += (dp_gauss_countFemales(datensammlung, 1, 0.001, 0.0000000000000001))\n",
    "    print(results / 1000)"
   ]
  },
  {
   "cell_type": "markdown",
   "id": "7d96a437",
   "metadata": {},
   "source": [
    "Es sollte ersichtlich sein, dass abhängig vom Delta die Ergebnisse stärker oder weniger stark \"ausreissen\". Entsprechend ist es beim Gauss Mechanismus wichtig, dass das Epsilon und das Delta korrekt gewählt werden."
   ]
  },
  {
   "cell_type": "markdown",
   "id": "568cc22f",
   "metadata": {},
   "source": [
    "## Übung: Exponentieller Mechanismus\n",
    "\n",
    "Nachfolgend die Implementation des exponentiellen Mechanismus analog der Implementation in [Notebook 5: Der exponentielle Mechanismus](./5_Exponentielle-Mechanismus.ipynb)."
   ]
  },
  {
   "cell_type": "code",
   "execution_count": 11,
   "id": "b68f9cc8",
   "metadata": {},
   "outputs": [],
   "source": [
    "from array import *\n",
    "import numpy as np\n",
    "\n",
    "def countDiseases(array):\n",
    "    \n",
    "    diabetes = 0\n",
    "    hepatitis = 0\n",
    "    grippe = 0\n",
    "    hiv = 0\n",
    "    \n",
    "    counts = [diabetes, hepatitis, grippe, hiv]\n",
    "    \n",
    "    for x in array:\n",
    "        if x[2] == \"Diabetes\":\n",
    "            counts[0] += 1\n",
    "        elif x[2] == \"Hepatitis\":\n",
    "            counts[1] += 1\n",
    "        elif x[2] == \"Grippe\":\n",
    "            counts[2] += 1\n",
    "        elif x[2] == \"HIV\":\n",
    "            counts[3] += 1\n",
    "        else:\n",
    "            pass\n",
    "    return counts\n",
    "\n",
    "def dp_mostCommonDisease(diseases, probabilities):\n",
    "    return np.random.choice(diseases, 1, p=probabilities)\n",
    "\n",
    "datensammlung = [[\"Jean\",\"Müller\",\"Hepatitis\"],\n",
    "                [\"Sarah\",\"Rochat\",\"Diabetes\"],\n",
    "                [\"Elisabeth\",\"Baumann\",\"Diabetes\"],\n",
    "                [\"Marianne\",\"Frei\",\"Diabetes\"],\n",
    "                [\"Rosa\",\"Da Silva\",\"Grippe\"],\n",
    "                [\"Juan\",\"Meier\",\"Grippe\"],\n",
    "                [\"Anita\",\"Weber\",\"HIV\"],\n",
    "                [\"Anna\",\"Schneider\",\"Grippe\"],\n",
    "                [\"Rita\",\"Rochat\",\"Diabetes\"],\n",
    "                [\"Monika\",\"Fischer\",\"Grippe\"],\n",
    "                [\"Loris\",\"Schneider\",\"Diabetes\"],\n",
    "                [\"Manuela\",\"Meyer\",\"Grippe\"],\n",
    "                [\"Eva\",\"Zürcher\",\"Grippe\"],\n",
    "                [\"Esther\",\"Rochat\",\"HIV\"],\n",
    "                [\"Beatrice\",\"Meyer\",\"Grippe\"],\n",
    "                [\"Dominique\",\"Fischer\",\"Hepatitis\"],\n",
    "                [\"Verena\",\"Elmer\",\"Diabetes\"],\n",
    "                [\"Michele\",\"Wyss\",\"Grippe\"],\n",
    "                [\"Sonja\",\"Krasniqi\",\"Grippe\"],\n",
    "                [\"Daniele\",\"Wyss\",\"Diabetes\"],\n",
    "                [\"Nicole\",\"Bucher\",\"Diabetes\"],\n",
    "                [\"Sara\",\"Bernasconi\",\"Grippe\"],\n",
    "                [\"Sandra\",\"Elmer\",\"Grippe\"],\n",
    "                [\"Robin\",\"Zürcher\",\"Diabetes\"],\n",
    "                [\"Ruth\",\"Nguyen\",\"Diabetes\"],\n",
    "                [\"Jacqueline\",\"Caduff\",\"Grippe\"],\n",
    "                [\"Susanne\",\"Caduff\",\"Grippe\"],\n",
    "                [\"Claudia\",\"Martin\",\"Diabetes\"],\n",
    "                [\"Maria\",\"Favre\",\"Diabetes\"],\n",
    "                [\"Barbara\",\"Huber\",\"Hepatitis\"],\n",
    "                [\"Ana\",\"Schmid\",\"Grippe\"],\n",
    "                [\"Laura\",\"Weber\",\"HIV\"],\n",
    "                [\"Daniela\",\"Moser\",\"Diabetes\"],\n",
    "                [\"Maxime\",\"Moser\",\"HIV\"],\n",
    "                [\"Alex\",\"Müller\",\"Grippe\"],\n",
    "                [\"Heidi\",\"Da Silva\",\"Hepatitis\"],\n",
    "                [\"Claude\",\"Frei\",\"Grippe\"],\n",
    "                [\"Karin\",\"Keller\",\"Grippe\"],\n",
    "                [\"Nicola\",\"Brunner\",\"Grippe\"],\n",
    "                [\"Noah\",\"Bernasconi\",\"Grippe\"],\n",
    "                [\"Marie\",\"Martin\",\"Diabetes\"],\n",
    "                [\"Elia\",\"Bucher\",\"Grippe\"],\n",
    "                [\"Doris\",\"Brunner\",\"HIV\"],\n",
    "                [\"Ursula\",\"Nguyen\",\"Grippe\"],\n",
    "                [\"Ali\",\"Meier\",\"Diabetes\"],\n",
    "                [\"Katharina\",\"Gerber\",\"Grippe\"],\n",
    "                [\"Irene\",\"Krasniqi\",\"Grippe\"],\n",
    "                [\"Jan\",\"Nguyen\",\"Diabetes\"],\n",
    "                [\"Margrit\",\"Steiner\",\"Grippe\"],\n",
    "                [\"Andrea\",\"Keller\",\"Hepatitis\"],\n",
    "                [\"Willy\",\"Müller\",\"Hepatitis\"],\n",
    "                [\"Erika\",\"Bernasconi\",\"Diabetes\"],\n",
    "                [\"Rui\",\"Caduff\",\"Grippe\"],\n",
    "                [\"Luca\",\"Huber\",\"Diabetes\"],\n",
    "                [\"Nino\",\"Baumann\",\"Hepatitis\"],\n",
    "                [\"Janis\",\"Elmer\",\"Diabetes\"],\n",
    "                [\"Brigitte\",\"Steiner\",\"Diabetes\"],\n",
    "                [\"Yannick\",\"Meier\",\"Grippe\"],\n",
    "                [\"Silvia\",\"Da Silva\",\"Diabetes\"],\n",
    "                [\"Andrea\",\"Gerber\",\"Diabetes\"],\n",
    "                [\"Sascha\",\"Zürcher\",\"Hepatitis\"],\n",
    "                [\"Rosmarie\",\"Krasniqi\",\"Diabetes\"],\n",
    "                [\"Julia\",\"Schmid\",\"Grippe\"],\n",
    "                [\"Stéphane\",\"Krasniqi\",\"Grippe\"],\n",
    "                [\"Yvonne\",\"Schmid\",\"Diabetes\"]]\n",
    "\n",
    "scores = countDiseases(datensammlung)\n",
    "\n",
    "diseases = [\"Diabetes\",\n",
    "            \"Hepatitis\",\n",
    "            \"Grippe\",\n",
    "            \"HIV\"]\n",
    "\n",
    "sensitivity = 1"
   ]
  },
  {
   "cell_type": "markdown",
   "id": "b1163bd8",
   "metadata": {},
   "source": [
    "Nachfolgend das ursprüngliche Beispiel mit $\\varepsilon$ = 0.1:"
   ]
  },
  {
   "cell_type": "code",
   "execution_count": 12,
   "id": "f93d22f2",
   "metadata": {},
   "outputs": [
    {
     "name": "stdout",
     "output_type": "stream",
     "text": [
      "['Grippe']\n",
      "['Diabetes']\n",
      "['Grippe']\n",
      "['Grippe']\n",
      "['Diabetes']\n",
      "['Hepatitis']\n",
      "['Grippe']\n",
      "['Diabetes']\n",
      "['HIV']\n",
      "['Hepatitis']\n"
     ]
    }
   ],
   "source": [
    "epsilon = 0.1\n",
    "\n",
    "probabilities = [np.exp(epsilon * score / (2 * sensitivity)) for score in scores]\n",
    "probabilities = probabilities / np.linalg.norm(probabilities, ord=1)\n",
    "\n",
    "for i in range(10):\n",
    "    print(dp_mostCommonDisease(diseases, probabilities))"
   ]
  },
  {
   "cell_type": "markdown",
   "id": "672213d1",
   "metadata": {},
   "source": [
    "Zur Verdeutlichung wird der Mechanismus 10'000 mal ausgeführt und dann die Ergebnisse in Prozent ausgegeben:"
   ]
  },
  {
   "cell_type": "code",
   "execution_count": 13,
   "id": "70403613",
   "metadata": {},
   "outputs": [
    {
     "name": "stdout",
     "output_type": "stream",
     "text": [
      "Diabetes: 31.77%\n",
      "Hepatitis: 15.03%\n",
      "Grippe: 40.03%\n",
      "HIV: 13.17%\n"
     ]
    }
   ],
   "source": [
    "diabetes = 0\n",
    "hepatitis = 0\n",
    "grippe = 0\n",
    "hiv = 0\n",
    "\n",
    "for i in range(10000):\n",
    "    result = dp_mostCommonDisease(diseases, probabilities)\n",
    "    \n",
    "    if result == \"Diabetes\":\n",
    "        diabetes += 1\n",
    "    elif result == \"Hepatitis\":\n",
    "        hepatitis += 1\n",
    "    elif result == \"Grippe\":\n",
    "        grippe += 1\n",
    "    elif result == \"HIV\":\n",
    "        hiv += 1\n",
    "    else:\n",
    "        pass\n",
    "\n",
    "print(\"Diabetes: \" + str(diabetes/100) + \"%\")\n",
    "print(\"Hepatitis: \" + str(hepatitis/100) + \"%\")\n",
    "print(\"Grippe: \" + str(grippe/100) + \"%\")\n",
    "print(\"HIV: \" + str(hiv/100) + \"%\")"
   ]
  },
  {
   "cell_type": "markdown",
   "id": "645d6add",
   "metadata": {},
   "source": [
    "Es ist ersichtlich, dass die Verteilung ungefähr den Wahrscheinlichkeiten entspricht. Im Extremfall von $\\varepsilon$ = 0.0 sind die Wahrscheinlichkeiten gleichverteilt und jede Krankheit wird gleich oft ausgegeben:"
   ]
  },
  {
   "cell_type": "code",
   "execution_count": 14,
   "id": "a438875a",
   "metadata": {},
   "outputs": [
    {
     "name": "stdout",
     "output_type": "stream",
     "text": [
      "Diabetes: 25.47%\n",
      "Hepatitis: 24.94%\n",
      "Grippe: 24.94%\n",
      "HIV: 24.65%\n"
     ]
    }
   ],
   "source": [
    "epsilon = 0.0\n",
    "\n",
    "probabilities = [np.exp(epsilon * score / (2 * sensitivity)) for score in scores]\n",
    "probabilities = probabilities / np.linalg.norm(probabilities, ord=1)\n",
    "\n",
    "diabetes = 0\n",
    "hepatitis = 0\n",
    "grippe = 0\n",
    "hiv = 0\n",
    "\n",
    "for i in range(10000):\n",
    "    result = dp_mostCommonDisease(diseases, probabilities)\n",
    "    \n",
    "    if result == \"Diabetes\":\n",
    "        diabetes += 1\n",
    "    elif result == \"Hepatitis\":\n",
    "        hepatitis += 1\n",
    "    elif result == \"Grippe\":\n",
    "        grippe += 1\n",
    "    elif result == \"HIV\":\n",
    "        hiv += 1\n",
    "    else:\n",
    "        pass\n",
    "\n",
    "print(\"Diabetes: \" + str(diabetes/100) + \"%\")\n",
    "print(\"Hepatitis: \" + str(hepatitis/100) + \"%\")\n",
    "print(\"Grippe: \" + str(grippe/100) + \"%\")\n",
    "print(\"HIV: \" + str(hiv/100) + \"%\")"
   ]
  },
  {
   "cell_type": "markdown",
   "id": "9cbf3e5d",
   "metadata": {},
   "source": [
    "Die Werte sind nun alle nah bei 25%, was einer Gleichverteilung der Wahrscheinlichkeiten entspricht. Bei einem hohen Privacy Budget von $\\varepsilon$ = 1.0 wiederum weichen die Wahrscheinlichkeiten stark ab und \"Grippe\" wird sehr deutlich am häufigsten zurückgegeben:"
   ]
  },
  {
   "cell_type": "code",
   "execution_count": 15,
   "id": "f2620794",
   "metadata": {},
   "outputs": [
    {
     "name": "stdout",
     "output_type": "stream",
     "text": [
      "Diabetes: 12.21%\n",
      "Hepatitis: 0.01%\n",
      "Grippe: 87.77%\n",
      "HIV: 0.01%\n"
     ]
    }
   ],
   "source": [
    "epsilon = 1.0\n",
    "\n",
    "probabilities = [np.exp(epsilon * score / (2 * sensitivity)) for score in scores]\n",
    "probabilities = probabilities / np.linalg.norm(probabilities, ord=1)\n",
    "\n",
    "diabetes = 0\n",
    "hepatitis = 0\n",
    "grippe = 0\n",
    "hiv = 0\n",
    "\n",
    "for i in range(10000):\n",
    "    result = dp_mostCommonDisease(diseases, probabilities)\n",
    "    \n",
    "    if result == \"Diabetes\":\n",
    "        diabetes += 1\n",
    "    elif result == \"Hepatitis\":\n",
    "        hepatitis += 1\n",
    "    elif result == \"Grippe\":\n",
    "        grippe += 1\n",
    "    elif result == \"HIV\":\n",
    "        hiv += 1\n",
    "    else:\n",
    "        pass\n",
    "\n",
    "print(\"Diabetes: \" + str(diabetes/100) + \"%\")\n",
    "print(\"Hepatitis: \" + str(hepatitis/100) + \"%\")\n",
    "print(\"Grippe: \" + str(grippe/100) + \"%\")\n",
    "print(\"HIV: \" + str(hiv/100) + \"%\")"
   ]
  },
  {
   "cell_type": "markdown",
   "id": "4eb298f9",
   "metadata": {},
   "source": [
    "Als abschliessendes Extrembeispiel wird ein Privacy Budget von $\\varepsilon$ = 10.0 gewählt. Das Ergebnis spricht für sich und es ist klar, dass ein zu hohes Privacy Budget jeglichem Sinn der Differential Privacy widerspricht."
   ]
  },
  {
   "cell_type": "code",
   "execution_count": 16,
   "id": "9c99982f",
   "metadata": {},
   "outputs": [
    {
     "name": "stdout",
     "output_type": "stream",
     "text": [
      "Diabetes: 0.0%\n",
      "Hepatitis: 0.0%\n",
      "Grippe: 100.0%\n",
      "HIV: 0.0%\n"
     ]
    }
   ],
   "source": [
    "epsilon = 10.0\n",
    "\n",
    "probabilities = [np.exp(epsilon * score / (2 * sensitivity)) for score in scores]\n",
    "probabilities = probabilities / np.linalg.norm(probabilities, ord=1)\n",
    "\n",
    "diabetes = 0\n",
    "hepatitis = 0\n",
    "grippe = 0\n",
    "hiv = 0\n",
    "\n",
    "for i in range(10000):\n",
    "    result = dp_mostCommonDisease(diseases, probabilities)\n",
    "    \n",
    "    if result == \"Diabetes\":\n",
    "        diabetes += 1\n",
    "    elif result == \"Hepatitis\":\n",
    "        hepatitis += 1\n",
    "    elif result == \"Grippe\":\n",
    "        grippe += 1\n",
    "    elif result == \"HIV\":\n",
    "        hiv += 1\n",
    "    else:\n",
    "        pass\n",
    "\n",
    "print(\"Diabetes: \" + str(diabetes/100) + \"%\")\n",
    "print(\"Hepatitis: \" + str(hepatitis/100) + \"%\")\n",
    "print(\"Grippe: \" + str(grippe/100) + \"%\")\n",
    "print(\"HIV: \" + str(hiv/100) + \"%\")"
   ]
  }
 ],
 "metadata": {
  "kernelspec": {
   "display_name": "Python 3 (ipykernel)",
   "language": "python",
   "name": "python3"
  },
  "language_info": {
   "codemirror_mode": {
    "name": "ipython",
    "version": 3
   },
   "file_extension": ".py",
   "mimetype": "text/x-python",
   "name": "python",
   "nbconvert_exporter": "python",
   "pygments_lexer": "ipython3",
   "version": "3.9.7"
  }
 },
 "nbformat": 4,
 "nbformat_minor": 5
}
