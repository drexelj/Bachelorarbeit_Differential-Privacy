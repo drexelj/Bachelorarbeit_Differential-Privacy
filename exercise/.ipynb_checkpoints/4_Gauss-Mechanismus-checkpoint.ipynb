{
 "cells": [
  {
   "cell_type": "markdown",
   "id": "9d24550c",
   "metadata": {},
   "source": [
    "### Musterlösung zu den Kontrollfragen des vorherigen Notebooks\n",
    "\n",
    "* Wie ist in der Regel die Sensitivität einer Zählfunktion (`COUNT`)?\n",
    "> Die Sensitivität einer Zählfunktion ist in aller Regel 1.\n",
    "\n",
    "* Von welchen beiden Parametern ist die Laplace-Zufallsfunktion abhängig?\n",
    "> Von der Sensitivität und dem Privacy-Budget: Lap(Sensitivität / Privacy-Budget)\n",
    "\n",
    "<hr>"
   ]
  },
  {
   "cell_type": "markdown",
   "id": "82f52e61",
   "metadata": {},
   "source": [
    "# Notebook 4: Der Gauss Mechanismus\n",
    "\n",
    "***Hier geht es zum vorherigen Notebook dieser Serie: [Notebook 3: Der Laplace Mechanismus](./3_Laplace-Mechanismus.ipynb)***"
   ]
  },
  {
   "cell_type": "markdown",
   "id": "45d09aba",
   "metadata": {},
   "source": [
    "## Lernziele\n",
    "\n",
    "Folgende Lernziele sollten mit der Bearbeitung dieses Jupyter Notebooks erreicht werden können:\n",
    "- Die Teilnehmenden sind in der Lage, die Definition der $(\\varepsilon, \\delta)$-Differential Privacy abzurufen.\n",
    "- Die Teilnehmenden sind in der Lage, die Eigenschaften der Differential Privacy für eine einfache Funktion mittels des Gauss Mechanismus zu implementieren.\n",
    "- Die Teilnehmenden sind in der Lage, die Vor- und Nachteile des Laplace und Gauss Mechanismus zu benennen."
   ]
  },
  {
   "cell_type": "markdown",
   "id": "3b310b24",
   "metadata": {},
   "source": [
    "## Die annähernde Differential Privacy\n",
    "\n",
    "Die $\\varepsilon$-Differential Privacy wird auch als **reine Differential Privacy** bezeichnet. In der Definition der **annähernden Differential Privacy** kommt ein $\\delta$ dazu, welches eine kontrollierte Verletzung der reinen Differential Privacy erlaubt. Die $\\varepsilon$-Differential Privacy kann auch als $(\\varepsilon, \\delta)$-Differential Privacy mit einem Wert von $\\delta = 0$ definiert werden.\n",
    "\n",
    "<div class=\"alert alert-success\">\n",
    "<b>Definition: $(\\varepsilon, \\delta)$-Differential Privacy</b>\n",
    "    <br />\n",
    "    <br /> \n",
    "Ein Mechanismus $M$ erfüllt dann die Eigenschaften von $(\\varepsilon, \\delta)$-Differential Privacy, wenn für alle Datensammlungen $D_1$ und $D_2$, welche sich in genau einem Datensatz unterscheiden, für alle möglichen Ausgaben $A$ gilt:\n",
    "\n",
    "$$\\mathbb{P}[M(D_1) = A] \\leq e^{\\varepsilon} * \\mathbb{P}[M(D_2) = A] + \\delta$$\n",
    "</div>\n",
    "\n",
    "Das $\\delta$ kann auch als die Wahrscheinlichkeit, dass die $\\varepsilon$-Differential Privacy verletzt wird, betrachtet werden. Somit kann es bei der annähernden Differential Privacy zu Ereignissen kommen, in welchen die $\\varepsilon$-Differential Privacy nicht erfüllt wird.\n",
    "\n",
    "Beim Gauss Mechanismus wird dieses $\\delta$ benötigt, um extreme Ereignisse zu verhindern bzw. \"Worst Case\" Szenarien vorzubeugen. Die detaillierte Betrachtung der Bedeutung des $\\delta$ würde aber den Umfang dieser Übung übersteigen."
   ]
  },
  {
   "cell_type": "markdown",
   "id": "abcae526",
   "metadata": {},
   "source": [
    "## Definition des Gauss Mechanismus\n",
    "\n",
    "Alternativ zum Laplace Mechanismus kann mit dem Gauss Mechanismus Rauschen nach der Gauss Verteilung (Normalverteilung) hinzugefügt werden. Gleich wie der Laplace Mechanismus wird auch der Gauss Mechanismus ausschliesslich für **numerische Abfragen** eingesetzt und liefert immer eine Zahl als Ausgabe zurück. Zur Veranschaulichung wird dieser Ablauf in <a href=\"#abb-1\">Abbildung 1</a> grafisch gezeigt.\n",
    "\n",
    "<br>\n",
    "<br>\n",
    "<center>\n",
    "<img src=\"./src/Gauss-Mechanismus.png\" width=\"50%\" alt=\"Funktionsweise Laplace Mechanismus\">\n",
    "<br>\n",
    "<br>\n",
    "<a name=\"abb-1\">Abbildung 1: Funktionsweise des Gauss Mechanismus</center></a>\n",
    "\n",
    "Während der Laplace Mechanismus die Eigenschaften der reinen $\\varepsilon$-Differential Privacy erfüllt, kann der Gauss Mechanismus nur die Eigenschaften der annähernden ($\\varepsilon, \\delta$)-Differential Privacy erfüllen.\n",
    "\n",
    "<div class=\"alert alert-success\">\n",
    "<b>Definition: Gauss Mechanismus</b>\n",
    "    <br />\n",
    "    <br /> \n",
    "Zur Ausgabe der Funktion $f(D)$, welche eine Zahl zurück liefert, wird Rauschen nach der Gauss Verteilung $\\mathcal{N}(0,\\sigma^2)$ hinzugefügt. Dadurch erfüllt der Mechanismus $M(D)$ die Eigenschaften von ($\\varepsilon, \\delta$)-Differential Privacy.\n",
    "\n",
    "$$M(D) = f(D) + \\mathcal{N}(0, \\sigma^2)$$\n",
    "Wobei:\n",
    "$$\\sigma^2 = \\frac{2*s^2*ln(1.25/\\delta)}{\\varepsilon^2}$$\n",
    "</div>\n",
    "\n",
    "\n",
    "Das $s$ entspricht der Sensitivität der Funktion $f(D)$. $\\mathcal{N}(0, \\sigma^2)$ bezeichnet das Gauss Rauschen, zentriert bei $0$ und mit der Varianz $\\sigma^2$."
   ]
  },
  {
   "cell_type": "markdown",
   "id": "d5076a87",
   "metadata": {},
   "source": [
    "## Implementation des Gauss Mechanismus\n",
    "\n",
    "Wir verwenden dasselbe Beispiel, wie beim Laplace Mechanismus in [Notebook 3](./3_Laplace-Mechanismus.ipynb). Nachfolgend werden wiederum die Daten geladen. Weiter wird die Zählfunktion implementiert, welche die Anzahl der Frauen in der Datensammlung zählt."
   ]
  },
  {
   "cell_type": "code",
   "execution_count": 1,
   "id": "8e64a626",
   "metadata": {},
   "outputs": [
    {
     "name": "stdout",
     "output_type": "stream",
     "text": [
      "3\n"
     ]
    }
   ],
   "source": [
    "from array import *\n",
    "\n",
    "datensammlung = [[\"Heinz\", \"Müller\", 1958, \"M\"], \n",
    "                 [\"Maria\", \"Meier\", 1965, \"F\"], \n",
    "                 [\"Jolanda\", \"Heine\", 1968, \"F\"], \n",
    "                 [\"Markus\", \"Inauen\", 1978, \"M\"],\n",
    "                 [\"Sarah\", \"Hauser\", 1994, \"F\"]]\n",
    "\n",
    "def countFemales(array):\n",
    "    count = 0\n",
    "    for x in array:\n",
    "        if x[3] == \"F\":\n",
    "            count += 1\n",
    "    return count\n",
    "\n",
    "print(countFemales(datensammlung))"
   ]
  },
  {
   "cell_type": "markdown",
   "id": "96f2734c",
   "metadata": {},
   "source": [
    "Der Skalenparameter der Gauss-Funktion (Normalverteilung) entspricht dem Sigma. Dieses Sigma wird unten in der Implementation zur besseren Übersichtlichkeit zuerst berechnet.\n",
    "\n",
    "Es ist wichtig zu beachten, dass in der Definition des Gauss Mechanismus das $\\sigma²$ angegeben ist Für die Funktion `np.random.normal` wird jedoch das $\\sigma$ benötigt. Deshalb wird bei der Implementation (siehe nachfolgender Codeabschnitt) entsprechend die Wurzel `np.sqrt()` gezogen bzw. werden direkt das $s$ statt $s²$ und $\\varepsilon$ statt $\\varepsilon²$ eingesetzt."
   ]
  },
  {
   "cell_type": "code",
   "execution_count": 2,
   "id": "45ba8fbb",
   "metadata": {},
   "outputs": [],
   "source": [
    "import numpy as np\n",
    "\n",
    "def dp_gauss_countFemales(array, sensitivity, epsilon, delta):\n",
    "    sigma = (np.sqrt(2 * np.log(1.25 / delta)) * sensitivity) / epsilon\n",
    "    return countFemales(array) + np.random.normal(loc=0, scale=sigma)"
   ]
  },
  {
   "cell_type": "markdown",
   "id": "5c725262",
   "metadata": {},
   "source": [
    "Wir führen den Mechanismus `dp_gauss_countFemales` wiederum 10 Mal aus und sehen, dass Rauschen hinzugefügt wird."
   ]
  },
  {
   "cell_type": "code",
   "execution_count": 3,
   "id": "bfd9d82d",
   "metadata": {},
   "outputs": [
    {
     "name": "stdout",
     "output_type": "stream",
     "text": [
      "38.95999052807901\n",
      "27.358901152729963\n",
      "-39.287222427208924\n",
      "3.382866122384327\n",
      "-95.92951588138322\n",
      "2.03248760613576\n",
      "-93.72270707127657\n",
      "25.242309287967338\n",
      "79.65476753723696\n",
      "68.82346364989279\n"
     ]
    }
   ],
   "source": [
    "for i in range(10):\n",
    "    print(dp_gauss_countFemales(datensammlung, 1, 0.1, 10e-5))"
   ]
  },
  {
   "cell_type": "markdown",
   "id": "ee4d5149",
   "metadata": {},
   "source": [
    "<div class=\"alert alert-danger\">\n",
    "    <h2>Übung: Gauss Mechanismus</h2>\n",
    "    <br />\n",
    "Schreibe Code, welcher den Mechanismus \"dp_gauss_countFemales\" 1'000 Mal ausführt und den Durchschnitt der Ergebnisse berechnet. Probiere verschiedene Werte von Epsilon und Delta aus und beobachte die Ergebnisse.\n",
    "<br />\n",
    "<br />\n",
    "<i>Hinweis: Eine Musterlösung ist im <a href=\"./7_Musterlösungen-der-Übungen.ipynb\">Notebook 7: Musterlösungen der Übungen</a> zu finden.</i>\n",
    "</div>"
   ]
  },
  {
   "cell_type": "code",
   "execution_count": 4,
   "id": "0bd60124",
   "metadata": {},
   "outputs": [],
   "source": [
    "## Implementiere den Code hier"
   ]
  },
  {
   "cell_type": "markdown",
   "id": "a7fb228a",
   "metadata": {},
   "source": [
    "## Realitätsnahes Beispiel des Gauss Mechanismus\n",
    "\n",
    "Das Beispiel aus dem vorherigen [Notebook 3](./3_Laplace-Mechanismus.ipynb) zur Studie \"National Longitudinal Study of Youth, NLSY79\" soll erneut aufgegriffen werden. Es wird wiederum die Funktion `lowEducationHighIncome` implementiert, welche die Anzahl Personen, mit einem Einkommen von über 33'761 USD und weniger als 16 Jahre in der Schule waren."
   ]
  },
  {
   "cell_type": "code",
   "execution_count": 5,
   "id": "bb2062fc",
   "metadata": {},
   "outputs": [
    {
     "name": "stdout",
     "output_type": "stream",
     "text": [
      "Resultat ohne DP: 882\n"
     ]
    }
   ],
   "source": [
    "data = np.genfromtxt('./src/income.dat',\n",
    "                     skip_header=0,\n",
    "                     skip_footer=0,\n",
    "                     names=True,\n",
    "                     dtype=None,\n",
    "                     delimiter=' ')\n",
    "\n",
    "def lowEducationHighIncome(array):\n",
    "    count = 0\n",
    "    \n",
    "    for x in array:\n",
    "        if x[1] < 16 and x[2] > 33761:\n",
    "            count += 1\n",
    "    \n",
    "    return count\n",
    "\n",
    "print(\"Resultat ohne DP: \" + str(lowEducationHighIncome(data)))"
   ]
  },
  {
   "cell_type": "markdown",
   "id": "01754855",
   "metadata": {},
   "source": [
    "Nun wird der Gauss Mechanismus implementiert."
   ]
  },
  {
   "cell_type": "code",
   "execution_count": 6,
   "id": "b1367fe1",
   "metadata": {},
   "outputs": [
    {
     "name": "stdout",
     "output_type": "stream",
     "text": [
      "Resultat mit DP: 934.6333289474336\n"
     ]
    }
   ],
   "source": [
    "def dp_gauss_lowEducationHighIncome(array, sensitivity, epsilon, delta):\n",
    "    sigma = (np.sqrt(2 * np.log(1.25 / delta)) * sensitivity) / epsilon\n",
    "    return lowEducationHighIncome(array) + np.random.normal(loc=0, scale=sigma)\n",
    "\n",
    "print(\"Resultat mit DP: \" + str(dp_gauss_lowEducationHighIncome(data, 1, 0.1, 10e-5)))"
   ]
  },
  {
   "cell_type": "markdown",
   "id": "8410b71b",
   "metadata": {},
   "source": [
    "Auch beim Gauss Mechanismus weicht wie erwartet das \"Resultat mit DP\" vom \"Resultat ohne DP\" ab. \n",
    "\n",
    "Nachfolgend wird der Mechanismus 1000 mal ausgeführt und anschliessend wird die absolute mittlere Abweichung vom tatsächlichen Wert (882) gemessen und ausgegeben."
   ]
  },
  {
   "cell_type": "code",
   "execution_count": 7,
   "id": "e047269a",
   "metadata": {},
   "outputs": [
    {
     "name": "stdout",
     "output_type": "stream",
     "text": [
      "Absolute mittlere Abweichung von 882: 35.28585706273609\n"
     ]
    }
   ],
   "source": [
    "values = []\n",
    "\n",
    "for i in range(1000):\n",
    "    values.append(dp_gauss_lowEducationHighIncome(data, 1, 0.1, 10e-5))\n",
    "\n",
    "print(\"Absolute mittlere Abweichung von 882: \" + str(np.mean(np.absolute(values - np.asarray(882)))))"
   ]
  },
  {
   "cell_type": "markdown",
   "id": "97f16c98",
   "metadata": {},
   "source": [
    "Das heisst, dass die Ergebnisse des Mechanismus im Schnitt um ~35 Personen vom tatsächlichen Wert abgewichen sind. Für ein besseres Verständnis betrachten wir die Zahlen in Prozent.\n",
    "\n",
    "Total sind **2584 Personen** enthalten, dies entspricht **100%**  \n",
    "Insgesamt treffen davon für **882 Personen** die angegebenen Kriterien zu, dies entspricht **34%**  \n",
    "Die Ergebnisse des Mechanismus wichen im Schnitt um **~35 Personen** ab, was **1.4%** entspricht  \n",
    "\n",
    "**Auswertung der Studie ohne Differential Privacy:**  \n",
    "34.0% der Personen erzielen trotz einer geringeren Schulbildung ein hohes Einkommen.\n",
    "\n",
    "**Auswertung der Studie mit Differential Privacy:**  \n",
    "35.4% der Personen erzielen trotz einer geringeren Schulbildung ein hohes Einkommen.\n",
    "\n",
    "Zur Erinnerung: Bei demselben Beispiel war beim Laplace Mechanismus die absolute mittlere Abweichung bei nur ~10 Personen, was 0.4% entspricht. Der Gauss Mechanismus fügt bei diesem Beispiel mehr Rauschen hinzu, als der Laplace Mechanismus.\n",
    "\n",
    "Es stellt sich nun die Frage zu den Vor- und Nachteilen dieser beiden Mechanismen."
   ]
  },
  {
   "cell_type": "markdown",
   "id": "9066c784",
   "metadata": {},
   "source": [
    "## Vergleich: Laplace und Gauss Mechanismus\n",
    "\n",
    "Ein grosser Vorteil des Laplace Mechanismus ist, dass die Eigenschaften von $\\varepsilon$-Differential Privacy in jedem Fall erfüllt werden. Im Gegensatz zum Gauss Mechanismus, bei welchem die Definition der Differential Privacy gelockert werden musste, indem ein $\\delta$ hinzugefügt wurde. Möchte man somit die $\\varepsilon$-Differential Privacy erreichen, kann der Gauss Mechanismus nicht verwendet werden.\n",
    "\n",
    "Ein wesentlicher Vorteil des Gauss Mechanismus liegt in der Verteilung des Rauschens. Die Normalverteilung ist sehr verbreitet, intuitiv und hat viele gute statistische Eigenschaften.\n",
    "\n",
    "Ein weiterer Unterschied liegt in der Menge des notwendigen Rauschens. Hat eine Person in der Datensammlung nur Einfluss auf wenige Statistiken, muss mit dem Laplace Mechanismus weniger Rauschen hinzugefügt werden. So wie dies auch im vorherigen Beispiel gezeigt werden konnte. Hat eine Person aber Einfluss auf viele Statistiken, so benötigt der Gauss Mechanismus weniger Rauschen. Desfontaines hat in <a href=\"https://desfontain.es/privacy/gaussian-noise.html\">seinem Blog</a> eine Gegenüberstellung der beiden Mechanismen bezüglich der Menge des Rauschens gemacht.\n",
    "\n",
    "<br>\n",
    "<br>\n",
    "<center>\n",
    "<img src=\"./src/laplace-gaussian-comparison.png\" alt=\"Vergleich Laplace und Gauss\" width=\"60%\">\n",
    "<br>\n",
    "<br>\n",
    "<a name=\"abb-2\">Abbildung 2: Vergleich des Rauschens beim Laplace und Gauss Mechanismus (Quelle: Desfontaines)</center></a>\n",
    "\n",
    "In <a href=\"#abb-2\">Abbildung 2</a> hat Desfontaines die Menge des Rauschens des Laplace und des Gauss Mechanismus bei einem $\\varepsilon = 1.0$ und einem $\\delta = 10^{-5}$ abgebildet. Es ist ersichtlich, dass bei dem gegebenen $\\varepsilon$ und $\\delta$ der Laplace Mechanismus weniger Rauschen benötigt, wenn eine Person in der Datensammlung Einfluss auf 1 bis ca. 7 Statistiken hat. Ab 7 Statistiken benötigte in diesem Beispiel der Gauss Mechanismus weniger Rauschen.\n",
    "\n",
    "\"Einfluss auf mehrere Statistiken\" heisst in diesem Fall, dass eine Person Einfluss auf mehrere Werte haben kann, welche auf Basis derselben Datensammlung errechnet werden. \n",
    "\n",
    "Zur Verdeutlichung ein Beispiel: Die 50 meist geschauten Kinofilme sollen veröffentlicht werden. Dazu soll die Anzahl der Kinobesuche pro Film ausgegeben werden. Hat nun eine Person genau einen Kinofilm geschaut, so hat diese auch nur Einfluss auf genau einen Wert. Handelt es sich jedoch um eine Person, welche viele Kinofilme geschaut hat, so beeinflusst diese Person die Anzahl mehrerer Filme und dadurch auch mehrerer Statistiken. Bei vielen Statistiken wird das Rauschen dann beim Gauss Mechanismus geringer, als beim Laplace Mechanismus.\n",
    "\n",
    "Schlussendlich hängt es also vom Anwendungsfall ab, ob nun der Laplace oder der Gauss Mechnismus implementiert wird. Dies muss entsprechend vor der Implementation gut überlegt werden."
   ]
  },
  {
   "cell_type": "markdown",
   "id": "898d2200",
   "metadata": {},
   "source": [
    "## Kontrollfragen\n",
    "\n",
    "* Ist der folgende Satz korrekt? \"Der Schutz der Privacy ist besser, je kleiner das Privacy-Budget und je grösser das Delta.\"\n",
    "* Wie wird die Gauss Verteilung auch genannt?\n",
    "* Eine Person kommt potentiell in sehr vielen Statistiken (basierend auf demselben Mechanismus) vor. Wähle ich besser den Laplace oder den Gauss Mechanismus?\n",
    "\n",
    "_Hinweis: Eine Musterlösung der Kontrollfragen ist im nächsten Notebook zu finden._"
   ]
  },
  {
   "cell_type": "markdown",
   "id": "79bed467",
   "metadata": {},
   "source": [
    "***Hier geht es zum nächsten Notebook dieser Serie: [Notebook 5: Der exponentielle Mechanismus](./5_Exponentieller-Mechanismus.ipynb)***"
   ]
  }
 ],
 "metadata": {
  "kernelspec": {
   "display_name": "Python 3 (ipykernel)",
   "language": "python",
   "name": "python3"
  },
  "language_info": {
   "codemirror_mode": {
    "name": "ipython",
    "version": 3
   },
   "file_extension": ".py",
   "mimetype": "text/x-python",
   "name": "python",
   "nbconvert_exporter": "python",
   "pygments_lexer": "ipython3",
   "version": "3.9.7"
  }
 },
 "nbformat": 4,
 "nbformat_minor": 5
}
