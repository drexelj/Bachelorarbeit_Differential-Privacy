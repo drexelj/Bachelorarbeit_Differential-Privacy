{
 "cells": [
  {
   "cell_type": "markdown",
   "id": "df5feea6",
   "metadata": {},
   "source": [
    "# Notebook 1: Einführung in die Thematik\n",
    "\n",
    "***Hier geht es zum vorherigen Notebook dieser Serie: [Notebook 0: Übersicht und Inhalt](./0_Übersicht-und-Inhalt.ipynb)***"
   ]
  },
  {
   "cell_type": "markdown",
   "id": "5c52f968",
   "metadata": {},
   "source": [
    "## Lernziele\n",
    "\n",
    "Folgende Lernziele sollten mit der Bearbeitung dieses Jupyter Notebooks erreicht werden:\n",
    "- Die Teilnehmenden sind in der Lage, das Prinzip der *k*-Anonymität anzuwenden.\n",
    "- Die Teilnehmenden sind in der Lage, die klassischen Ansätze der Datenanonymisierung kritisch zu beurteilen."
   ]
  },
  {
   "cell_type": "markdown",
   "id": "928ae85b",
   "metadata": {},
   "source": [
    "## Was heisst Privacy?\n",
    "\n",
    "Der englische Begriff \"Privacy\" kann nicht eindeutig ins Deutsche übersetzt werden und ist abhängig vom Zusammenhang. Privacy kann Datenschutz bedeuten und sich mit dem Schutz vor unbefugter Erhebung, Speicherung und Weitergabe von Personendaten befassen. Privacy kann aber auch Privatsphäre bedeuten und damit den Schutz der privaten Atmosphäre beschreiben.\n",
    "\n",
    "Um eine Verwechslung mit den Begriffen \"Datenschutz\" und \"Privatsphäre\" zu vermeiden, wird in dieser Übung auf eine Übersetzung des Begriffs \"Privacy\" verzichtet. Unter Privacy wird in dieser Übung der **Schutz von persönlichen Informationen** verstanden."
   ]
  },
  {
   "cell_type": "markdown",
   "id": "a36d4c08",
   "metadata": {},
   "source": [
    "## Warum überhaupt Privacy?\n",
    "\n",
    "<a href=\"https://www.fraunhofer-innovisions.de/big-data/lebendige-zukunft/\">Thomas Bendig</a> vom Frauenhofer-Verbund IUK-Technologie beschreibt Daten als unendlich wertvoll, viel wertvoller als Gold oder Öl. Dies ist den vielseitigen Verwendungszwecken zu verdanken. So können Daten einmalig gesammelt und anschliessend mehrfach verkauft und verwertet werden. Bendig beschreibt weiter den Vorteil, wenn Daten geteilt und gemeinsam genutzt werden. Dieselben Daten müssen nicht mehrfach erhoben oder errechnet werden, was auch einen ökologischen Nutzen mit sich bringen kann. Dies zeigt den grossen Nutzen von der Sammlung, Verarbeitung und dem Teilen von Daten und substanziiert das Geschäftsmodell mit den Daten.\n",
    "\n",
    "Im internationalen Pakt über bürgerliche und politische Rechte der Vereinten Nationen (<a href=\"https://www.fedlex.admin.ch/eli/cc/1993/750_750_750/de\">UNO-Pakt II</a>), welchem die Schweiz am 18. Juni 1992 beigetreten ist, wird der Schutz der Privacy gesetzlich auf oberster Stufe verankert. Mit dem Bundesgesetz über den Datenschutz (<a href=\"https://www.fedlex.admin.ch/eli/cc/1993/1945_1945_1945/de\">DSG</a>) hat die Schweiz ein nationales Gesetz verabschiedet, welches sich dem Schutz der Privacy widmet. So muss jede Verarbeitung von Personendaten dem DSG entsprechen. Gemäss Art. 22 Abs. 1 DSG \"dürfen Bundesorgane Personendaten für nicht personenbezogene Zwecke, insbesondere für Forschung, Planung und Statistik bearbeiten, wenn:\n",
    "- die Daten **anonymisiert** werden, sobald es der Zweck des Bearbeitens erlaubt;\n",
    "- der Empfänger die Daten nur mit Zustimmung des Bundesorgans weitergibt; und\n",
    "- die Ergebnisse so veröffentlicht werden, dass die betroffenen Personen **nicht bestimmbar** sind.\"\n",
    "\n",
    "\n",
    "Um die gesetzlichen Grundlagen zum Schutz der Privacy einzuhalten, sind Organisationen daran interessiert, gesammelte Daten zu anonymisieren und die Daten so aufzubereiten, dass Individuen nicht mehr bestimmbar sind."
   ]
  },
  {
   "cell_type": "markdown",
   "id": "c6751fe8",
   "metadata": {},
   "source": [
    "## Klassischer Ansatz der Datenanonymisierung"
   ]
  },
  {
   "cell_type": "markdown",
   "id": "b4c3710a",
   "metadata": {},
   "source": [
    "Ein klassischer Ansatz für den Schutz der Privacy innerhalb einer Datensammlung ist die Anonymisierung der Daten. Bezüglich der Anonymität wird in einer Datensammlung zwischen drei Typen von Attributen unterschieden:\n",
    "- **Identifikatoren:** Erlauben die direkte Identifizierung von Personen\n",
    "- **Quasi-Identifikatoren:** Eine Kombination dieser können zur direkten Identifizierung einer Person führen\n",
    "- **Sensitive Attribute:** Attribute welche besonders schützenswert sind und nicht mit einer Person in Verbindung gebracht werden sollen\n",
    "\n",
    "Ein wichtiges Prinzip für die Anonymisierung ist die *k*-Anonymität. Bei der *k*-Anonymität gilt es sicherzustellen, dass in einer Datensammlung eine Person (bzw. ein einzelner Datensatz) in einer Gruppe kleiner oder gleich *k* nicht unterscheidbar ist. Anders gesagt, heisst das, dass es in der Datensammlung stets mindestens *k* identische Datensätze geben muss.\n",
    "\n",
    "Um eine Datensammlung zu anonymisieren bzw. diese *k*-anonym zu machen, werden in der Regel die Identifikatoren vollständig entfernt. Dies können der Name, die E-Mail Adresse, eine Telefonnummer oder Ähnliches sein.\n",
    "\n",
    "Quasi-Identifikatoren werden oftmals generalisiert. Aus dem genauen Geburtsdatum könnte dann beispielsweise noch der Jahrgang übrig bleiben.\n",
    "\n",
    "Dies wird so lange durchgeführt, bis die *k*-Anonymität für die Datensammlung erfüllt ist. An die sensitiven Attribute werden in der $k$-Anonymität keine Ansprüche gestellt.\n",
    "\n",
    "In <a href=\"#tab-1\">Tabelle 1</a> ist eine Beispiel-Tabelle mit **erfundenen** Krankheitsdaten gegeben. Diese Tabelle enthält zum jetzigen Zeitpunkt noch sämtliche Merkmale und wurde entsprechend noch nicht anonymisiert.\n",
    "\n",
    "| Vorname | Nachname | Geburtsdatum | Geschlecht | PLZ | Krankheit |\n",
    "| :- | :- | :-:| :-: | :-: | :- |\n",
    "| Michael | Meier | 19.11.1985 | M | 9035 | Bluthochdruck |\n",
    "| Julia | Künzler | 05.02.1974 | W | 9036 | Diabetes |\n",
    "| Karl | Lutz | 02.12.1985 | M | 9035 | Bluthochdruck |\n",
    "| Felix | Wagner | 29.02.1985 | M | 9035 | Bluthochdruck |\n",
    "| Maria | Ikonic | 15.10.1974 | W | 9036 | Diabetes |\n",
    "| Jolanda | Meile | 30.07.1974 | W | 9036 | Diabetes |\n",
    "\n",
    "<br>\n",
    "<a name=\"tab-1\"><center>Tabelle 1: Originale Datensammlung der Krankheitsdaten von Grub AR und Grub SG</center></a>"
   ]
  },
  {
   "cell_type": "markdown",
   "id": "a30fcf03",
   "metadata": {},
   "source": [
    "Um die Identifizierung von Individuen in <a href=\"#tab-1\">Tabelle 1</a> zu erschweren, werden die Attribute \"Vorname\" und \"Nachname\" entfernt. Weiter wird das Geburtsdatum generalisiert, sodass nur noch der Jahrgang übrig bleibt. Das Ergebnis ist in <a href=\"#tab-2\">Tabelle 2</a> zu finden.\n",
    "\n",
    "| Vorname | Nachname | Geburtsdatum | Geschlecht | PLZ | Krankheit |\n",
    "| :- | :- | :-:| :-: | :-: | :- |\n",
    "|  |  | <span style=\"color:blue\">1985</span> | <span style=\"color:blue\">M</span> | <span style=\"color:blue\">9035</span> | <span style=\"color:blue\">Bluthochdruck</span> |\n",
    "|  |  | <span style=\"color:green\">1974</span> | <span style=\"color:green\">W</span> | <span style=\"color:green\">9036</span> | <span style=\"color:green\">Diabetes</span>  |\n",
    "|  |  | <span style=\"color:blue\">1985</span> | <span style=\"color:blue\">M</span> | <span style=\"color:blue\">9035</span> | <span style=\"color:blue\">Bluthochdruck</span> |\n",
    "|  |  | <span style=\"color:blue\">1985</span> | <span style=\"color:blue\">M</span> | <span style=\"color:blue\">9035</span> | <span style=\"color:blue\">Bluthochdruck</span> |\n",
    "|  |  | <span style=\"color:green\">1974</span> | <span style=\"color:green\">W</span> | <span style=\"color:green\">9036</span>  | <span style=\"color:green\">Diabetes</span> |\n",
    "|  |  | <span style=\"color:green\">1974</span> | <span style=\"color:green\">W</span> | <span style=\"color:green\">9036</span>  | <span style=\"color:green\">Diabetes</span> |\n",
    "\n",
    "<br>\n",
    "<a name=\"tab-2\"><center>Tabelle 2: Die 3-anonyme Datensammlung der Krankheitsdaten von Grub AR und Grub SG</center></a>\n",
    "\n",
    "Die Tabelle ist nun anonymisiert und erfüllt die Eigenschaften der 3-Anonymität. Es gibt jeweils mindestens 3 identische Datensätze. Eine Identifizierung von einzelnen Personen scheint auf den ersten Blick nicht möglich zu sein. Die Anonymität sämtlicher Personen scheint also sichergestellt zu sein."
   ]
  },
  {
   "cell_type": "markdown",
   "id": "4b6e4d2c",
   "metadata": {},
   "source": [
    "<div class=\"alert alert-danger\">\n",
    "    <h3>Übung: $k$-Anonymität</h3>\n",
    "    <br />\n",
    "    Welches ist in der Tabelle unten das sensitive Attribut? Beachten Sie, dass dieses bei der k-Anonymität nicht verändert werden muss bzw. keine Anforderungen an die sensitiven Attribute gestellt werden. Ändern Sie die nachfolgende Tabelle so ab, dass eine 4-anonyme Datensammlung entsteht. Bezeichnen Sie die einzelnen Schritte, die Sie vornehmen, um die 4-Anonymität zu erreichen (z.B. \"Entfernen von Attribut xyz\", \"Generalisieren von Attribut abc\", usw.).\n",
    "    \n",
    "<table>\n",
    "<thead>\n",
    "  <tr>\n",
    "    <th style=\"text-align: left\">Vorname</th>\n",
    "    <th style=\"text-align: left\">Nachname</th>\n",
    "    <th style=\"text-align: left\">Geburtsdatum</th>\n",
    "    <th style=\"text-align: left\">PLZ</th>\n",
    "    <th style=\"text-align: left\">Grösse</th>\n",
    "    <th style=\"text-align: left\">Straftat</th>\n",
    "  </tr>\n",
    "</thead>\n",
    "<tbody>\n",
    "  <tr>\n",
    "    <td style=\"text-align: left\">Matteo</td>\n",
    "    <td style=\"text-align: left\">Müller</td>\n",
    "    <td style=\"text-align: left\">02.03.1996</td>\n",
    "    <td style=\"text-align: left\">8400</td>\n",
    "    <td style=\"text-align: left\">186</td>\n",
    "    <td style=\"text-align: left\">Anbau von Betäubungsmitteln</td>\n",
    "  </tr>\n",
    "  <tr>\n",
    "    <td style=\"text-align: left\">Leon</td>\n",
    "    <td style=\"text-align: left\">Meier</td>\n",
    "    <td style=\"text-align: left\">15.06.1999</td>\n",
    "    <td style=\"text-align: left\">8405</td>\n",
    "    <td style=\"text-align: left\">193</td>\n",
    "    <td style=\"text-align: left\">Verkauf von Betäubungsmitteln</td>\n",
    "  </tr>\n",
    "  <tr>\n",
    "    <td style=\"text-align: left\">Emilia</td>\n",
    "    <td style=\"text-align: left\">Schmid</td>\n",
    "    <td style=\"text-align: left\">23.05.2001</td>\n",
    "    <td style=\"text-align: left\">9001</td>\n",
    "    <td style=\"text-align: left\">168</td>\n",
    "    <td style=\"text-align: left\">Unterschlagung</td>\n",
    "  </tr>\n",
    "  <tr>\n",
    "    <td style=\"text-align: left\">Noah</td>\n",
    "    <td style=\"text-align: left\">Keller</td>\n",
    "    <td style=\"text-align: left\">26.11.1994</td>\n",
    "    <td style=\"text-align: left\">8401</td>\n",
    "    <td style=\"text-align: left\">172</td>\n",
    "    <td style=\"text-align: left\">Besitz von Betäubungsmitteln</td>\n",
    "  </tr>\n",
    "  <tr>\n",
    "    <td style=\"text-align: left\">Mia</td>\n",
    "    <td style=\"text-align: left\">Weber</td>\n",
    "    <td style=\"text-align: left\">13.08.1996</td>\n",
    "    <td style=\"text-align: left\">8400</td>\n",
    "    <td style=\"text-align: left\">162</td>\n",
    "    <td style=\"text-align: left\">Verkauf von Betäubungsmitteln</td>\n",
    "  </tr>\n",
    "  <tr>\n",
    "    <td style=\"text-align: left\">Louis</td>\n",
    "    <td style=\"text-align: left\">Huber</td>\n",
    "    <td style=\"text-align: left\">17.06.2003</td>\n",
    "    <td style=\"text-align: left\">9000</td>\n",
    "    <td style=\"text-align: left\">183</td>\n",
    "    <td style=\"text-align: left\">Betrug</td>\n",
    "  </tr>\n",
    "  <tr>\n",
    "    <td style=\"text-align: left\">Elias</td>\n",
    "    <td style=\"text-align: left\">Schneider</td>\n",
    "    <td style=\"text-align: left\">12.07.1995</td>\n",
    "    <td style=\"text-align: left\">8416</td>\n",
    "    <td style=\"text-align: left\">188</td>\n",
    "    <td style=\"text-align: left\">Kauf von Betäubungsmitteln</td>\n",
    "  </tr>\n",
    "  <tr>\n",
    "    <td style=\"text-align: left\">Lea</td>\n",
    "    <td style=\"text-align: left\">Steiner</td>\n",
    "    <td style=\"text-align: left\">19.12.2000</td>\n",
    "    <td style=\"text-align: left\">9006</td>\n",
    "    <td style=\"text-align: left\">158</td>\n",
    "    <td style=\"text-align: left\">Veruntreuung</td>\n",
    "  </tr>\n",
    "  <tr>\n",
    "    <td style=\"text-align: left\">Sofia</td>\n",
    "    <td style=\"text-align: left\">Brunner</td>\n",
    "    <td style=\"text-align: left\">27.10.2004</td>\n",
    "    <td style=\"text-align: left\">9016</td>\n",
    "    <td style=\"text-align: left\">176</td>\n",
    "    <td style=\"text-align: left\">Diebstahl</td>\n",
    "  </tr>\n",
    "</tbody>\n",
    "</table>   \n",
    "<br />\n",
    "<br />\n",
    "<i>Hinweis: Eine Musterlösung ist im <a href=\"./7_Musterlösungen-der-Übungen.ipynb\">Notebook 7: Musterlösungen der Übungen</a> zu finden.</i>\n",
    "</div>"
   ]
  },
  {
   "cell_type": "markdown",
   "id": "7facfa96",
   "metadata": {},
   "source": [
    "### Knackpunkt: Hintergrundinformationen\n",
    "\n",
    "In Grub AR (9035) und Grub SG (9036) wohnen jeweils nur einige Hundert Personen. Es könnte somit gut sein, dass gesamthaft nur 3 Männer mit dem Jahrgang 1985 in Grub AR wohnen. In einem kleinen Dorf kennt man sich und so wäre es auch gut möglich, dass mit diesem Wissen Michael Meier, Karl Lutz und Felix Wagner (siehe <a href=\"#tab-1\">Tabelle 1</a>) re-identifiziert werden könnten, bzw. könnte in 3 Fällen das sensitive Attribut \"Krankheit\" einer Person zugeordnet werden. So wäre nun bekannt, dass Michael Meier, Karl Lutz und Felix Wagner an Bluthochdruck leiden.\n",
    "\n",
    "Latanya Sweeney zeigte in <a href=\"https://dataprivacylab.org/projects/identifiability/paper1.pdf\">ihrer Arbeit</a> an der Carnegie Mellon University, dass sich Menschen oftmals anhand von einfachen demografischen Daten eindeutig identifizieren lassen. Sweeney zeigte, dass 87% der US-amerikanischen Bürger\\*innen alleine über die Postleitzahl, das Geschlecht und das Geburtsdatum eindeutig identifizierbar sind. Sweeney hat zur De-Anonymisierung einer Datensammlung eine Wählerliste verwendet und die Attribute \"Postleitzahl\", \"Geschlecht\" und \"Geburtsdatum\" abgeglichen. Diese Technik bezeichnet man als \"Verlinken\". Mittels Verlinken der beiden Datensammlungen war es ihr möglich einen Grossteil der darin enthaltenen Personen zu re-identifizieren.\n",
    "\n",
    "Dies zeigt einerseits, dass auch Attribute, welche keinen direkten Identifikator darstellen (wie eben z.B. die PLZ, das Geburtsdatum oder das Geschlecht) eine Person eindeutig identifizierbar machen können. Weiter zeigt dies, dass durch Hintergrundinformationen eine anonymisierte Datensammlung de-anonymisiert werden kann. Da die Hintergrundinformationen eines potentiellen Angreifers nur schwierig bestimmt werden können, ist auch eine entsprechende Garantie der Anonymität nur schwierig zu geben."
   ]
  },
  {
   "cell_type": "markdown",
   "id": "66910728",
   "metadata": {},
   "source": [
    "### $l$-Diversität\n",
    "\n",
    "Da die $k$-Anonymität keine Anforderungen an die sensitiven Attribute stellt, wurde die $l$-Diversität eingeführt. Die $l$-Diversität ist ein Ansatz zum Schutz der sensitiven Attribute und setzt eine $k$-anonyme Datensammlung voraus. Die $l$-Diversität schreibt vor, dass pro k-Gruppe von Datensätzen jedes sensitive Attribut \"ausreichend repräsentiert\" sein muss. Die Definition von \"ausreichend repräsentiert\" entspricht dem $l$ und ist nicht ganz einfach zu wählen, weshalb dies an dieser Stelle vereinfacht wird. Beim vorherigen Beispiel von <a href=\"#tab-1\">Tabelle 1</a> bzw. der 3-anonymen Version <a href=\"#tab-2\">Tabelle 2</a>, hiesse dies vereinfacht, dass das Attribut \"Krankheit\" nicht für alle in derselben Gruppe enthaltenen Datensätze gleich sein darf. Zum besseren Verständnis nachfolgend ein Beispiel basierend auf (wiederum frei erfundenen) Krankheitsdaten aus zwei anderen Gemeinden.\n",
    "\n",
    "| Vorname | Nachname | Geburtsdatum | Geschlecht | PLZ | Krankheit |\n",
    "| :- | :- | :-:| :-: | :-: | :- |\n",
    "| Johannes | Sieber | 30.07.1964 | M | 4535 | Magersucht |\n",
    "| Angelina | Stucki | 15.03.1972 | W | 3983 | Magersucht |\n",
    "| Mathias | Meister | 16.08.1964 | M | 4535 | Bluthochdruck |\n",
    "| Richard | Inauen | 01.11.1964 | M | 4535 | Diabetes |\n",
    "| Daniela | Scheibner | 07.08.1972 | W | 3983 | Diabetes |\n",
    "| Vanessa | Mayer | 02.05.1972 | W | 3983 | Bluthochdruck |\n",
    "\n",
    "<br>\n",
    "<a name=\"tab-3\"><center>Tabelle 3: Originale Datensammlung der Krankheitsdaten von Kammersrohr und Bister</center></a>\n",
    "\n",
    "Die Identifikatoren und Quasi-Identifikatoren werden analog dem vorherigen Beispiel entfernt oder generalisiert. Pro Gruppe müssen nun $l$ verschiedene sensitive Attribute vorhanden sein. <a href=\"#tab-4\">Tabelle 4</a> zeigt die 3-anonyme und 3-diverse Tabelle.\n",
    "\n",
    "| Vorname | Nachname | Geburtsdatum | Geschlecht | PLZ | Krankheit |\n",
    "| :- | :- | :-:| :-: | :-: | :- |\n",
    "|  |  | <span style=\"color:blue\">1964</span> | <span style=\"color:blue\">M</span> | <span style=\"color:blue\">4535</span> | <span style=\"color:blue\">Magersucht</span> |\n",
    "|  |  | <span style=\"color:green\">1972</span> | <span style=\"color:green\">W</span> | <span style=\"color:green\">3983</span> | <span style=\"color:green\">Magersucht</span>  |\n",
    "|  |  | <span style=\"color:blue\">1964</span> | <span style=\"color:blue\">M</span> | <span style=\"color:blue\">4535</span> | <span style=\"color:blue\">Bluthochdruck</span> |\n",
    "|  |  | <span style=\"color:blue\">1964</span> | <span style=\"color:blue\">M</span> | <span style=\"color:blue\">4535</span> | <span style=\"color:blue\">Diabetes</span> |\n",
    "|  |  | <span style=\"color:green\">1972</span> | <span style=\"color:green\">W</span> | <span style=\"color:green\">3983</span>  | <span style=\"color:green\">Diabetes</span> |\n",
    "|  |  | <span style=\"color:green\">1972</span> | <span style=\"color:green\">W</span> | <span style=\"color:green\">3983</span>  | <span style=\"color:green\">Bluthochdruck</span> |\n",
    "\n",
    "<br>\n",
    "<a name=\"tab-4\"><center>Tabelle 4: 3-anonyme und 3-diverse Datensammlung der Krankheitsdaten von Kammersrohr und Bister</center></a>"
   ]
  },
  {
   "cell_type": "markdown",
   "id": "88cebe76",
   "metadata": {},
   "source": [
    "### Angriff auf die $l$-Diversität\n",
    "\n",
    "Wir nehmen an, dass es in Kammersrohr (4535) nur 3 Männer mit dem Jahrgang 1964 gäbe und der Angreifer kennt die Namen dieser 3 Männer aufgrund von Hintergrundinformationen (gleich wie beim ersten Beispiel von Grub AR in <a href=\"#tab-2\">Tabelle 2</a>). Im Gegensatz zum ersten Beispiel weiss der Angreifer nun aber nicht, an welcher Krankheit Johannes Sieber, Mathias Meister und Richard Inauen leiden. Jeder dieser drei Männer könnte entweder an Magersucht, Bluthochdruck oder Diabetes leiden.\n",
    "\n",
    "Nun kommt es aber auch auf das Ziel des Angreifers an. Denn vielleicht reicht es einem Angreifer nur schon zu wissen, dass die gesuchte Person krank ist. Die exakte Krankheit spielt allenfalls gar keine wichtige Rolle. In diesem Fall hätte der Angreifer sein Ziel trotz $k$-Anonymität und $l$-Diversität dennoch erreichen können. Denn er wüsste, dass Johannes Sieber, Mathias Meister und Richard Inauen an einer Krankheit leiden.\n",
    "\n",
    "Weiter ist auch bei der $l$-Diversität weiterhin das Hintergrundwissen eines Angreifers von grosser Relevanz. Kann der Angreifer herausfinden, dass Johannes Sieber an Magersucht und Mathias Meister an Bluthochdruck leiden, so weiss er dann auch, dass Richard Inauen offensichtlich an Diabetes erkrankt sein muss.\n",
    "\n",
    "Dies ist ein enormer Schwachpunkt von den Ansätzen die auf der Anonymisierung von Daten beruhen. Aus diesem Grund ist die Differential Privacy sehr interessant, da die Differential Privacy nicht auf der Anonymisierung von Daten basiert und auch funktioniert, wenn ein Angreifer unbegrenzte Hintergrundinformationen hat."
   ]
  },
  {
   "cell_type": "markdown",
   "id": "abd82af0",
   "metadata": {},
   "source": [
    "## Überleitung zur Differential Privacy\n",
    "\n",
    "Die Differential Privacy bietet ein Modell, um eine beweisbare Garantie für den Schutz der Privacy zu erreichen und technisch zu implementieren. In den nachfolgenden Notebooks wird die Differential Privacy im Detail erklärt. Der riesige Vorteil der Differential Privacy wird ebenfalls gezeigt, denn die Differential Privacy funktioniert unabhängig vom Hintergrundwissen eines Angreifers!"
   ]
  },
  {
   "cell_type": "markdown",
   "id": "9c9bc23d",
   "metadata": {
    "hide_input": true
   },
   "source": [
    "## Kontrollfragen\n",
    "\n",
    "* Welche Eigenschaft gibt die $k$-Anonymität für eine Datensammlung vor?\n",
    "* Welches sind die Identifikatoren, Quasi-Identifikatoren und sensitiven Attribute in <a href=\"#tab-1\">Tabelle 1</a>?\n",
    "* Mit welcher Technik kann (unter anderem) die $k$-Anonymität geknackt werden?\n",
    "\n",
    "_Hinweis: Eine Musterlösung der Kontrollfragen ist im nächsten Notebook zu finden._"
   ]
  },
  {
   "cell_type": "markdown",
   "id": "699a9731",
   "metadata": {},
   "source": [
    "***Hier geht es zum nächsten Notebook dieser Serie: [Notebook 2: Definition von Differential Privacy](./2_Definition-Differential-Privacy.ipynb)***"
   ]
  }
 ],
 "metadata": {
  "direction": "ltr",
  "kernelspec": {
   "display_name": "Python 3 (ipykernel)",
   "language": "python",
   "name": "python3"
  },
  "language_info": {
   "codemirror_mode": {
    "name": "ipython",
    "version": 3
   },
   "file_extension": ".py",
   "mimetype": "text/x-python",
   "name": "python",
   "nbconvert_exporter": "python",
   "pygments_lexer": "ipython3",
   "version": "3.9.7"
  }
 },
 "nbformat": 4,
 "nbformat_minor": 5
}
