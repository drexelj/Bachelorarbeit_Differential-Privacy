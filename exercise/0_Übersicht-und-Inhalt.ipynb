{
 "cells": [
  {
   "cell_type": "markdown",
   "id": "2f1062b1",
   "metadata": {},
   "source": [
    "# Notebook 0: Übersicht und Inhalt\n",
    "\n",
    "Diese Übung vermittelt die Grundlagen der Differential Privacy und zeigt deren Eigenschaften, Anwendungsfälle und Vorteile auf. Die Übung besteht aus einer Serie von Jupyter Notebooks:\n",
    "\n",
    "* [Notebook 1: Einführung in die Thematik](./1_Einführung-in-die-Thematik.ipynb)\n",
    "* [Notebook 2: Die Definition der Differential Privacy](./2_Definition-Differential-Privacy.ipynb)\n",
    "* [Notebook 3: Der Laplace Mechanismus](./3_Laplace-Mechanismus.ipynb)\n",
    "* [Notebook 4: Der Gauss Mechanismus](./4_Gauss-Mechanismus.ipynb)\n",
    "* [Notebook 5: Der exponentielle Mechanismus](./5_Exponentieller-Mechanismus.ipynb)\n",
    "* [Notebook 6: Anwendungsfälle und Grenzen der Differential Privacy](./6_Anwendungsfälle-Grenzen.ipynb)\n",
    "* [Notebook 7: Musterlösungen der Übungen](./7_Musterlösungen-der-Übungen.ipynb)"
   ]
  },
  {
   "cell_type": "markdown",
   "id": "d0a783f1",
   "metadata": {},
   "source": [
    "## An wen richtet sich diese Übung?\n",
    "\n",
    "Diese Übung richtet sich an Studierende, Mitarbeitende und anderweitig interessierte Personen, die sich in das Thema \"Differential Privacy\" einarbeiten möchten."
   ]
  },
  {
   "cell_type": "markdown",
   "id": "2a8c4c9b",
   "metadata": {},
   "source": [
    "## Welche Vorkenntnisse sind für die Bearbeitung dieser Übung notwendig?\n",
    "\n",
    "Für die Bearbeitung dieser Übung werden folgende Vorkenntnisse empfohlen:\n",
    "\n",
    "- Kenntnisse der Programmierung:\n",
    "    - Definition und Aufruf von einfachen Funktionen\n",
    "    - Verständnis der primitiven Datentypen und von Arrays\n",
    "    - Schleifen\n",
    "    - Ausgabe von Werten  \n",
    "  \n",
    "  \n",
    "- Kenntnisse der Mathematik:\n",
    "    - Verständnis von Variablen und Gleichungen\n",
    "    - Grundlagen der Funktionslehre\n",
    "    - Grundlagen der Wahrscheinlichkeitsrechnung\n",
    "    - Grundlagen der Statistik (Verteilungen und Varianz)"
   ]
  },
  {
   "cell_type": "markdown",
   "id": "7492dc5d",
   "metadata": {},
   "source": [
    "## Welche Lernziele sollen mit der Bearbeitung dieser Übung erreicht werden?\n",
    "\n",
    "Während der Übungsbearbeitung sollen die folgenden Lernziele erreicht werden.\n",
    "\n",
    "Die Teilnehmenden sind in der Lage,\n",
    "- das Prinzip der $k$-Anonymität anzuwenden.\n",
    "- die klassischen Ansätze der Datenanonymisierung kritisch zu beurteilen.\n",
    "- die beiden Modelle (lokal und zentral) der Differential Privacy zu unterscheiden.\n",
    "- die Definition der $\\varepsilon$-Differential Privacy zu erklären.\n",
    "- das Konzept des Privacy-Budgets zu erklären.\n",
    "- die Auswirkung des Privacy-Budgets auf den Wissensgewinn des Angreifers abzuschätzen.\n",
    "- das Konzept der Komposition des Privacy-Budgets zu bezeichnen.\n",
    "- die Sensitivität einer einfachen Funktion abzuschätzen.\n",
    "- zwischen der unbegrenzten und begrenzten Sensitivität zu unterscheiden.\n",
    "- die Eigenschaften der Differential Privacy für eine einfache Funktion mittels des Laplace Mechanismus zu implementieren.\n",
    "- die Definition der $(\\varepsilon, \\delta)$-Differential Privacy abzurufen.\n",
    "- die Eigenschaften der Differential Privacy für eine einfache Funktion mittels des Gauss Mechanismus zu implementieren.\n",
    "- die Vor- und Nachteile des Laplace und Gauss Mechanismus zu benennen.\n",
    "- die Eigenschaften der Differential Privacy für eine einfache Funktion mittels des exponentiellen Mechanismus zu implementieren.\n",
    "- die verschiedenen Anwendungsfälle der Differential Privacy zu benennen.\n",
    "- die Grenzen der Differential Privacy zu benennen."
   ]
  },
  {
   "cell_type": "markdown",
   "id": "984c548d",
   "metadata": {},
   "source": [
    "***Hier geht es zum ersten Notebook dieser Serie: [Notebook 1: Einführung in die Thematik](./1_Einführung-in-die-Thematik.ipynb)***"
   ]
  },
  {
   "cell_type": "markdown",
   "id": "ced20a61",
   "metadata": {},
   "source": [
    "## Impressum\n",
    "\n",
    "Diese Übung wurde im Rahmen der Bachelorarbeit von [Joshua Drexel](mailto:joshua.drexel@stud.hslu.ch) an der [Hochschule Luzern - Informatik](https://www.hslu.ch/de-ch/informatik/) erstellt."
   ]
  }
 ],
 "metadata": {
  "kernelspec": {
   "display_name": "Python 3 (ipykernel)",
   "language": "python",
   "name": "python3"
  },
  "language_info": {
   "codemirror_mode": {
    "name": "ipython",
    "version": 3
   },
   "file_extension": ".py",
   "mimetype": "text/x-python",
   "name": "python",
   "nbconvert_exporter": "python",
   "pygments_lexer": "ipython3",
   "version": "3.9.7"
  }
 },
 "nbformat": 4,
 "nbformat_minor": 5
}
